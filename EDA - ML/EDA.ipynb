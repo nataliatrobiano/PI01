{
  "nbformat": 4,
  "nbformat_minor": 0,
  "metadata": {
    "colab": {
      "provenance": []
    },
    "kernelspec": {
      "name": "python3",
      "display_name": "Python 3"
    },
    "language_info": {
      "name": "python"
    }
  },
  "cells": [
    {
      "cell_type": "code",
      "execution_count": null,
      "metadata": {
        "colab": {
          "base_uri": "https://localhost:8080/"
        },
        "id": "lZOKY8XaqdOo",
        "outputId": "bbf6c012-2724-4109-ac58-e8e00c824292"
      },
      "outputs": [
        {
          "output_type": "stream",
          "name": "stdout",
          "text": [
            "Drive already mounted at /content/drive; to attempt to forcibly remount, call drive.mount(\"/content/drive\", force_remount=True).\n"
          ]
        }
      ],
      "source": [
        "from google.colab import drive\n",
        "drive.mount('/content/drive')"
      ]
    },
    {
      "cell_type": "code",
      "source": [
        "import pandas as pd\n",
        "import numpy as np"
      ],
      "metadata": {
        "id": "4V_zj4CYq7Gq"
      },
      "execution_count": null,
      "outputs": []
    },
    {
      "cell_type": "code",
      "source": [
        "import matplotlib.pyplot as plt"
      ],
      "metadata": {
        "id": "hGnB67VErR-h"
      },
      "execution_count": null,
      "outputs": []
    },
    {
      "cell_type": "code",
      "source": [
        "dfcompleto = pd.read_csv('/content/drive/MyDrive/Datasc/PI/datoscompletos.csv')"
      ],
      "metadata": {
        "id": "BiXbXKsHq-wv",
        "colab": {
          "base_uri": "https://localhost:8080/"
        },
        "outputId": "03753421-352f-40b2-91c5-3b1909c3f011"
      },
      "execution_count": null,
      "outputs": [
        {
          "output_type": "stream",
          "name": "stderr",
          "text": [
            "/usr/local/lib/python3.8/dist-packages/IPython/core/interactiveshell.py:3326: DtypeWarning: Columns (3,4,5,6) have mixed types.Specify dtype option on import or set low_memory=False.\n",
            "  exec(code_obj, self.user_global_ns, self.user_ns)\n"
          ]
        }
      ]
    },
    {
      "cell_type": "code",
      "source": [
        "dfcompleto.head()"
      ],
      "metadata": {
        "colab": {
          "base_uri": "https://localhost:8080/",
          "height": 733
        },
        "id": "uMqvHTugFZc8",
        "outputId": "0455032a-1f97-4c6c-ea26-fafdf0fa90c9"
      },
      "execution_count": null,
      "outputs": [
        {
          "output_type": "execute_result",
          "data": {
            "text/plain": [
              "  show_id   type                title      director  \\\n",
              "0      s1  movie  the grand seduction  don mckellar   \n",
              "1      s1  movie  the grand seduction  don mckellar   \n",
              "2      s1  movie  the grand seduction  don mckellar   \n",
              "3      s1  movie  the grand seduction  don mckellar   \n",
              "4      s1  movie  the grand seduction  don mckellar   \n",
              "\n",
              "                                             cast country  date_added  \\\n",
              "0  brendan gleeson, taylor kitsch, gordon pinsent  canada  2021-03-30   \n",
              "1  brendan gleeson, taylor kitsch, gordon pinsent  canada  2021-03-30   \n",
              "2  brendan gleeson, taylor kitsch, gordon pinsent  canada  2021-03-30   \n",
              "3  brendan gleeson, taylor kitsch, gordon pinsent  canada  2021-03-30   \n",
              "4  brendan gleeson, taylor kitsch, gordon pinsent  canada  2021-03-30   \n",
              "\n",
              "   release_year rating_x duration  ...  \\\n",
              "0          2014        g  113 min  ...   \n",
              "1          2014        g  113 min  ...   \n",
              "2          2014        g  113 min  ...   \n",
              "3          2014        g  113 min  ...   \n",
              "4          2014        g  113 min  ...   \n",
              "\n",
              "                                         description platform   ID  \\\n",
              "0  a small fishing village must procure a local d...   amazon  as1   \n",
              "1  a small fishing village must procure a local d...   amazon  as1   \n",
              "2  a small fishing village must procure a local d...   amazon  as1   \n",
              "3  a small fishing village must procure a local d...   amazon  as1   \n",
              "4  a small fishing village must procure a local d...   amazon  as1   \n",
              "\n",
              "  duration_int  duration_type userId  rating_y   timestamp movieId    scored  \n",
              "0          113            min    543       5.0  2003/07/30     as1  3.467131  \n",
              "1          113            min    595       3.0  1996/08/13     as1  3.467131  \n",
              "2          113            min    611       3.0  2001/01/03     as1  3.467131  \n",
              "3          113            min   2523       3.5  2012/06/25     as1  3.467131  \n",
              "4          113            min   3082       4.0  2000/03/30     as1  3.467131  \n",
              "\n",
              "[5 rows x 21 columns]"
            ],
            "text/html": [
              "\n",
              "  <div id=\"df-6f729459-2905-419a-8401-6e332d2af1dd\">\n",
              "    <div class=\"colab-df-container\">\n",
              "      <div>\n",
              "<style scoped>\n",
              "    .dataframe tbody tr th:only-of-type {\n",
              "        vertical-align: middle;\n",
              "    }\n",
              "\n",
              "    .dataframe tbody tr th {\n",
              "        vertical-align: top;\n",
              "    }\n",
              "\n",
              "    .dataframe thead th {\n",
              "        text-align: right;\n",
              "    }\n",
              "</style>\n",
              "<table border=\"1\" class=\"dataframe\">\n",
              "  <thead>\n",
              "    <tr style=\"text-align: right;\">\n",
              "      <th></th>\n",
              "      <th>show_id</th>\n",
              "      <th>type</th>\n",
              "      <th>title</th>\n",
              "      <th>director</th>\n",
              "      <th>cast</th>\n",
              "      <th>country</th>\n",
              "      <th>date_added</th>\n",
              "      <th>release_year</th>\n",
              "      <th>rating_x</th>\n",
              "      <th>duration</th>\n",
              "      <th>...</th>\n",
              "      <th>description</th>\n",
              "      <th>platform</th>\n",
              "      <th>ID</th>\n",
              "      <th>duration_int</th>\n",
              "      <th>duration_type</th>\n",
              "      <th>userId</th>\n",
              "      <th>rating_y</th>\n",
              "      <th>timestamp</th>\n",
              "      <th>movieId</th>\n",
              "      <th>scored</th>\n",
              "    </tr>\n",
              "  </thead>\n",
              "  <tbody>\n",
              "    <tr>\n",
              "      <th>0</th>\n",
              "      <td>s1</td>\n",
              "      <td>movie</td>\n",
              "      <td>the grand seduction</td>\n",
              "      <td>don mckellar</td>\n",
              "      <td>brendan gleeson, taylor kitsch, gordon pinsent</td>\n",
              "      <td>canada</td>\n",
              "      <td>2021-03-30</td>\n",
              "      <td>2014</td>\n",
              "      <td>g</td>\n",
              "      <td>113 min</td>\n",
              "      <td>...</td>\n",
              "      <td>a small fishing village must procure a local d...</td>\n",
              "      <td>amazon</td>\n",
              "      <td>as1</td>\n",
              "      <td>113</td>\n",
              "      <td>min</td>\n",
              "      <td>543</td>\n",
              "      <td>5.0</td>\n",
              "      <td>2003/07/30</td>\n",
              "      <td>as1</td>\n",
              "      <td>3.467131</td>\n",
              "    </tr>\n",
              "    <tr>\n",
              "      <th>1</th>\n",
              "      <td>s1</td>\n",
              "      <td>movie</td>\n",
              "      <td>the grand seduction</td>\n",
              "      <td>don mckellar</td>\n",
              "      <td>brendan gleeson, taylor kitsch, gordon pinsent</td>\n",
              "      <td>canada</td>\n",
              "      <td>2021-03-30</td>\n",
              "      <td>2014</td>\n",
              "      <td>g</td>\n",
              "      <td>113 min</td>\n",
              "      <td>...</td>\n",
              "      <td>a small fishing village must procure a local d...</td>\n",
              "      <td>amazon</td>\n",
              "      <td>as1</td>\n",
              "      <td>113</td>\n",
              "      <td>min</td>\n",
              "      <td>595</td>\n",
              "      <td>3.0</td>\n",
              "      <td>1996/08/13</td>\n",
              "      <td>as1</td>\n",
              "      <td>3.467131</td>\n",
              "    </tr>\n",
              "    <tr>\n",
              "      <th>2</th>\n",
              "      <td>s1</td>\n",
              "      <td>movie</td>\n",
              "      <td>the grand seduction</td>\n",
              "      <td>don mckellar</td>\n",
              "      <td>brendan gleeson, taylor kitsch, gordon pinsent</td>\n",
              "      <td>canada</td>\n",
              "      <td>2021-03-30</td>\n",
              "      <td>2014</td>\n",
              "      <td>g</td>\n",
              "      <td>113 min</td>\n",
              "      <td>...</td>\n",
              "      <td>a small fishing village must procure a local d...</td>\n",
              "      <td>amazon</td>\n",
              "      <td>as1</td>\n",
              "      <td>113</td>\n",
              "      <td>min</td>\n",
              "      <td>611</td>\n",
              "      <td>3.0</td>\n",
              "      <td>2001/01/03</td>\n",
              "      <td>as1</td>\n",
              "      <td>3.467131</td>\n",
              "    </tr>\n",
              "    <tr>\n",
              "      <th>3</th>\n",
              "      <td>s1</td>\n",
              "      <td>movie</td>\n",
              "      <td>the grand seduction</td>\n",
              "      <td>don mckellar</td>\n",
              "      <td>brendan gleeson, taylor kitsch, gordon pinsent</td>\n",
              "      <td>canada</td>\n",
              "      <td>2021-03-30</td>\n",
              "      <td>2014</td>\n",
              "      <td>g</td>\n",
              "      <td>113 min</td>\n",
              "      <td>...</td>\n",
              "      <td>a small fishing village must procure a local d...</td>\n",
              "      <td>amazon</td>\n",
              "      <td>as1</td>\n",
              "      <td>113</td>\n",
              "      <td>min</td>\n",
              "      <td>2523</td>\n",
              "      <td>3.5</td>\n",
              "      <td>2012/06/25</td>\n",
              "      <td>as1</td>\n",
              "      <td>3.467131</td>\n",
              "    </tr>\n",
              "    <tr>\n",
              "      <th>4</th>\n",
              "      <td>s1</td>\n",
              "      <td>movie</td>\n",
              "      <td>the grand seduction</td>\n",
              "      <td>don mckellar</td>\n",
              "      <td>brendan gleeson, taylor kitsch, gordon pinsent</td>\n",
              "      <td>canada</td>\n",
              "      <td>2021-03-30</td>\n",
              "      <td>2014</td>\n",
              "      <td>g</td>\n",
              "      <td>113 min</td>\n",
              "      <td>...</td>\n",
              "      <td>a small fishing village must procure a local d...</td>\n",
              "      <td>amazon</td>\n",
              "      <td>as1</td>\n",
              "      <td>113</td>\n",
              "      <td>min</td>\n",
              "      <td>3082</td>\n",
              "      <td>4.0</td>\n",
              "      <td>2000/03/30</td>\n",
              "      <td>as1</td>\n",
              "      <td>3.467131</td>\n",
              "    </tr>\n",
              "  </tbody>\n",
              "</table>\n",
              "<p>5 rows × 21 columns</p>\n",
              "</div>\n",
              "      <button class=\"colab-df-convert\" onclick=\"convertToInteractive('df-6f729459-2905-419a-8401-6e332d2af1dd')\"\n",
              "              title=\"Convert this dataframe to an interactive table.\"\n",
              "              style=\"display:none;\">\n",
              "        \n",
              "  <svg xmlns=\"http://www.w3.org/2000/svg\" height=\"24px\"viewBox=\"0 0 24 24\"\n",
              "       width=\"24px\">\n",
              "    <path d=\"M0 0h24v24H0V0z\" fill=\"none\"/>\n",
              "    <path d=\"M18.56 5.44l.94 2.06.94-2.06 2.06-.94-2.06-.94-.94-2.06-.94 2.06-2.06.94zm-11 1L8.5 8.5l.94-2.06 2.06-.94-2.06-.94L8.5 2.5l-.94 2.06-2.06.94zm10 10l.94 2.06.94-2.06 2.06-.94-2.06-.94-.94-2.06-.94 2.06-2.06.94z\"/><path d=\"M17.41 7.96l-1.37-1.37c-.4-.4-.92-.59-1.43-.59-.52 0-1.04.2-1.43.59L10.3 9.45l-7.72 7.72c-.78.78-.78 2.05 0 2.83L4 21.41c.39.39.9.59 1.41.59.51 0 1.02-.2 1.41-.59l7.78-7.78 2.81-2.81c.8-.78.8-2.07 0-2.86zM5.41 20L4 18.59l7.72-7.72 1.47 1.35L5.41 20z\"/>\n",
              "  </svg>\n",
              "      </button>\n",
              "      \n",
              "  <style>\n",
              "    .colab-df-container {\n",
              "      display:flex;\n",
              "      flex-wrap:wrap;\n",
              "      gap: 12px;\n",
              "    }\n",
              "\n",
              "    .colab-df-convert {\n",
              "      background-color: #E8F0FE;\n",
              "      border: none;\n",
              "      border-radius: 50%;\n",
              "      cursor: pointer;\n",
              "      display: none;\n",
              "      fill: #1967D2;\n",
              "      height: 32px;\n",
              "      padding: 0 0 0 0;\n",
              "      width: 32px;\n",
              "    }\n",
              "\n",
              "    .colab-df-convert:hover {\n",
              "      background-color: #E2EBFA;\n",
              "      box-shadow: 0px 1px 2px rgba(60, 64, 67, 0.3), 0px 1px 3px 1px rgba(60, 64, 67, 0.15);\n",
              "      fill: #174EA6;\n",
              "    }\n",
              "\n",
              "    [theme=dark] .colab-df-convert {\n",
              "      background-color: #3B4455;\n",
              "      fill: #D2E3FC;\n",
              "    }\n",
              "\n",
              "    [theme=dark] .colab-df-convert:hover {\n",
              "      background-color: #434B5C;\n",
              "      box-shadow: 0px 1px 3px 1px rgba(0, 0, 0, 0.15);\n",
              "      filter: drop-shadow(0px 1px 2px rgba(0, 0, 0, 0.3));\n",
              "      fill: #FFFFFF;\n",
              "    }\n",
              "  </style>\n",
              "\n",
              "      <script>\n",
              "        const buttonEl =\n",
              "          document.querySelector('#df-6f729459-2905-419a-8401-6e332d2af1dd button.colab-df-convert');\n",
              "        buttonEl.style.display =\n",
              "          google.colab.kernel.accessAllowed ? 'block' : 'none';\n",
              "\n",
              "        async function convertToInteractive(key) {\n",
              "          const element = document.querySelector('#df-6f729459-2905-419a-8401-6e332d2af1dd');\n",
              "          const dataTable =\n",
              "            await google.colab.kernel.invokeFunction('convertToInteractive',\n",
              "                                                     [key], {});\n",
              "          if (!dataTable) return;\n",
              "\n",
              "          const docLinkHtml = 'Like what you see? Visit the ' +\n",
              "            '<a target=\"_blank\" href=https://colab.research.google.com/notebooks/data_table.ipynb>data table notebook</a>'\n",
              "            + ' to learn more about interactive tables.';\n",
              "          element.innerHTML = '';\n",
              "          dataTable['output_type'] = 'display_data';\n",
              "          await google.colab.output.renderOutput(dataTable, element);\n",
              "          const docLink = document.createElement('div');\n",
              "          docLink.innerHTML = docLinkHtml;\n",
              "          element.appendChild(docLink);\n",
              "        }\n",
              "      </script>\n",
              "    </div>\n",
              "  </div>\n",
              "  "
            ]
          },
          "metadata": {},
          "execution_count": 14
        }
      ]
    },
    {
      "cell_type": "code",
      "source": [
        "dfml = dfcompleto"
      ],
      "metadata": {
        "id": "GNxQVAaiUV1-"
      },
      "execution_count": null,
      "outputs": []
    },
    {
      "cell_type": "code",
      "source": [
        "#armar df para el modelo de ml quitando columnas que no necesito\n",
        "dfml = dfml.drop(columns=['release_year', 'director','country','date_added','rating_x','duration','description','show_id','timestamp'])"
      ],
      "metadata": {
        "id": "J4YcETrtT1Bm"
      },
      "execution_count": null,
      "outputs": []
    },
    {
      "cell_type": "code",
      "source": [
        "dfml.shape"
      ],
      "metadata": {
        "colab": {
          "base_uri": "https://localhost:8080/"
        },
        "id": "ize8ZQ2jUdiA",
        "outputId": "7b4d1b8b-e375-484a-bba6-85be54d51e39"
      },
      "execution_count": null,
      "outputs": [
        {
          "output_type": "execute_result",
          "data": {
            "text/plain": [
              "(8473430, 12)"
            ]
          },
          "metadata": {},
          "execution_count": 30
        }
      ]
    },
    {
      "cell_type": "code",
      "source": [
        "#Analisis de valores nulos\n",
        "dfml.isnull().sum()"
      ],
      "metadata": {
        "colab": {
          "base_uri": "https://localhost:8080/"
        },
        "id": "9c-y5ZjcUo6H",
        "outputId": "7ada1f67-a583-4ee8-fe61-69246de27785"
      },
      "execution_count": null,
      "outputs": [
        {
          "output_type": "execute_result",
          "data": {
            "text/plain": [
              "type             0\n",
              "title            0\n",
              "cast             0\n",
              "listed_in        0\n",
              "platform         0\n",
              "ID               0\n",
              "duration_int     0\n",
              "duration_type    0\n",
              "userId           0\n",
              "rating_y         0\n",
              "movieId          0\n",
              "scored           0\n",
              "dtype: int64"
            ]
          },
          "metadata": {},
          "execution_count": 33
        }
      ]
    },
    {
      "cell_type": "code",
      "source": [
        "#eliminar las filas con valores nulos en la columna cast ya que no me sirven para entrenar el modelo\n",
        "dfml = dfml.dropna(subset=['cast'])"
      ],
      "metadata": {
        "id": "fCiKdDROVkWn"
      },
      "execution_count": null,
      "outputs": []
    },
    {
      "cell_type": "code",
      "source": [
        "#reemplazar valores nulos de la columna duration_type por 'desconocido' \n",
        "dfml[['duration_type']] = dfml[['duration_type']].fillna('desconocido')"
      ],
      "metadata": {
        "id": "MjQrc1h4VyPb"
      },
      "execution_count": null,
      "outputs": []
    },
    {
      "cell_type": "code",
      "source": [
        "# calcular la matriz de correlación\n",
        "corr_matrix = dfml.corr()\n",
        "\n",
        "# ver la matriz de correlación\n",
        "print(corr_matrix)"
      ],
      "metadata": {
        "id": "uhKGT-O-fa78",
        "colab": {
          "base_uri": "https://localhost:8080/"
        },
        "outputId": "bf7e1bce-a319-446f-a3df-3b8603b1527f"
      },
      "execution_count": null,
      "outputs": [
        {
          "output_type": "stream",
          "name": "stdout",
          "text": [
            "              duration_int    userId  rating_y    scored\n",
            "duration_int      1.000000  0.000061 -0.000391 -0.008578\n",
            "userId            0.000061  1.000000  0.004607  0.000724\n",
            "rating_y         -0.000391  0.004607  1.000000  0.045625\n",
            "scored           -0.008578  0.000724  0.045625  1.000000\n"
          ]
        }
      ]
    },
    {
      "cell_type": "code",
      "source": [
        "# crear un boxplot de las puntuaciones para detectar outliers\n",
        "fig, ax = plt.subplots()\n",
        "ax.boxplot(dfml['scored'], vert=False, widths=0.5, showfliers=True, showmeans=True)\n",
        "ax.set_title('Distribución de las puntuaciones')\n",
        "ax.set_xlabel('Puntuaciones')\n",
        "plt.show()"
      ],
      "metadata": {
        "colab": {
          "base_uri": "https://localhost:8080/",
          "height": 295
        },
        "id": "WIU8hjLMUjWz",
        "outputId": "c91dd47e-f236-44d1-c43a-59d34e9f1542"
      },
      "execution_count": null,
      "outputs": [
        {
          "output_type": "display_data",
          "data": {
            "text/plain": [
              "<Figure size 432x288 with 1 Axes>"
            ],
            "image/png": "[encoded data removed]"
          },
          "metadata": {
            "needs_background": "light"
          }
        }
      ]
    },
    {
      "cell_type": "code",
      "source": [
        "# crear un gráfico de barras de las puntuaciones por ID\n",
        "dfml.groupby('ID')['scored'].mean().plot(kind='bar')\n",
        "plt.title('Puntuaciones promedio por ID')\n",
        "plt.xlabel('ID')\n",
        "plt.ylabel('Puntuación promedio')\n",
        "plt.show()"
      ],
      "metadata": {
        "colab": {
          "base_uri": "https://localhost:8080/",
          "height": 322
        },
        "id": "UxbSGJ0pTlOt",
        "outputId": "f894e639-48bb-46f5-9b5b-24f8da25c6f8"
      },
      "execution_count": null,
      "outputs": [
        {
          "output_type": "display_data",
          "data": {
            "text/plain": [
              "<Figure size 432x288 with 1 Axes>"
            ],
            "image/png": "[encoded data removed]"
          },
          "metadata": {
            "needs_background": "light"
          }
        }
      ]
    },
    {
      "cell_type": "code",
      "source": [
        "# crear un histograma de las puntuaciones\n",
        "plt.hist(dfml['scored'], bins=10, color='blue', alpha=0.5)\n",
        "plt.xlabel('Puntuación')\n",
        "plt.ylabel('Frecuencia')\n",
        "plt.title('Distribución de puntuaciones')\n",
        "plt.show()"
      ],
      "metadata": {
        "colab": {
          "base_uri": "https://localhost:8080/",
          "height": 295
        },
        "id": "Cx9Jv0iprICF",
        "outputId": "2f9a1218-8090-4f67-eabc-fb373b806a89"
      },
      "execution_count": null,
      "outputs": [
        {
          "output_type": "display_data",
          "data": {
            "text/plain": [
              "<Figure size 432x288 with 1 Axes>"
            ],
            "image/png": "[encoded data removed]"
          },
          "metadata": {
            "needs_background": "light"
          }
        }
      ]
    },
    {
      "cell_type": "code",
      "source": [
        "# crear un boxplot de las puntuaciones por año de lanzamiento\n",
        "dfml.boxplot(column='scored', by='release_year')\n",
        "plt.xlabel('Año de lanzamiento')\n",
        "plt.ylabel('Puntuación')\n",
        "plt.title('Distribución de puntuaciones por año de lanzamiento')\n",
        "plt.show()"
      ],
      "metadata": {
        "colab": {
          "base_uri": "https://localhost:8080/",
          "height": 356
        },
        "id": "Sr-KRaFgrc3V",
        "outputId": "c4a90205-ef8d-45e2-9c91-5b121f3c31cd"
      },
      "execution_count": null,
      "outputs": [
        {
          "output_type": "stream",
          "name": "stderr",
          "text": [
            "/usr/local/lib/python3.8/dist-packages/matplotlib/cbook/__init__.py:1376: VisibleDeprecationWarning: Creating an ndarray from ragged nested sequences (which is a list-or-tuple of lists-or-tuples-or ndarrays with different lengths or shapes) is deprecated. If you meant to do this, you must specify 'dtype=object' when creating the ndarray.\n",
            "  X = np.atleast_1d(X.T if isinstance(X, np.ndarray) else np.asarray(X))\n"
          ]
        },
        {
          "output_type": "display_data",
          "data": {
            "text/plain": [
              "<Figure size 432x288 with 1 Axes>"
            ],
            "image/png": "[encoded data removed]"
          },
          "metadata": {
            "needs_background": "light"
          }
        }
      ]
    },
    {
      "cell_type": "code",
      "source": [
        "# crear un scatterplot de las puntuaciones por duración\n",
        "plt.scatter(dfml['duration_int'], dfml['scored'], alpha=0.5)\n",
        "plt.xlabel('Duración')\n",
        "plt.ylabel('Puntuación')\n",
        "plt.title('Relación entre puntuaciones y duración')\n",
        "plt.show()"
      ],
      "metadata": {
        "colab": {
          "base_uri": "https://localhost:8080/",
          "height": 295
        },
        "id": "mdm7Q2mGsfZ0",
        "outputId": "da846715-cf83-4a8d-f84e-1d934dbe143d"
      },
      "execution_count": null,
      "outputs": [
        {
          "output_type": "display_data",
          "data": {
            "text/plain": [
              "<Figure size 432x288 with 1 Axes>"
            ],
            "image/png": "[encoded data removed]"
          },
          "metadata": {
            "needs_background": "light"
          }
        }
      ]
    },
    {
      "cell_type": "code",
      "source": [
        "# crear un boxplot de las puntuaciones por género\n",
        "dfml.boxplot(column='scored', by='listed_in')\n",
        "plt.xlabel('Género')\n",
        "plt.ylabel('Puntuación')\n",
        "plt.title('Distribución de puntuaciones por género')\n",
        "plt.show()"
      ],
      "metadata": {
        "colab": {
          "base_uri": "https://localhost:8080/",
          "height": 356
        },
        "id": "rYlNM8xisiT-",
        "outputId": "d46765c6-5ae2-4410-b81f-dd5864f8f7d1"
      },
      "execution_count": null,
      "outputs": [
        {
          "output_type": "stream",
          "name": "stderr",
          "text": [
            "/usr/local/lib/python3.8/dist-packages/matplotlib/cbook/__init__.py:1376: VisibleDeprecationWarning: Creating an ndarray from ragged nested sequences (which is a list-or-tuple of lists-or-tuples-or ndarrays with different lengths or shapes) is deprecated. If you meant to do this, you must specify 'dtype=object' when creating the ndarray.\n",
            "  X = np.atleast_1d(X.T if isinstance(X, np.ndarray) else np.asarray(X))\n"
          ]
        },
        {
          "output_type": "display_data",
          "data": {
            "text/plain": [
              "<Figure size 432x288 with 1 Axes>"
            ],
            "image/png": "[encoded data removed]"
          },
          "metadata": {
            "needs_background": "light"
          }
        }
      ]
    },
    {
      "cell_type": "code",
      "source": [
        "# crear un boxplot de las puntuaciones para detectar outliers\n",
        "plt.boxplot(dfml['scored'], vert=False, widths=0.5, showfliers=True, showmeans=True)\n",
        "plt.xlabel('Puntuaciones')\n",
        "plt.title('Boxplot para detectar outliers en puntuaciones')\n",
        "plt.show()"
      ],
      "metadata": {
        "colab": {
          "base_uri": "https://localhost:8080/",
          "height": 295
        },
        "id": "dR0rR-kotgzr",
        "outputId": "566a7336-1a68-46be-c6c4-da0697aacf88"
      },
      "execution_count": null,
      "outputs": [
        {
          "output_type": "display_data",
          "data": {
            "text/plain": [
              "<Figure size 432x288 with 1 Axes>"
            ],
            "image/png": "[encoded data removed]"
          },
          "metadata": {
            "needs_background": "light"
          }
        }
      ]
    },
    {
      "cell_type": "code",
      "source": [
        "# crear un scatterplot de la duración vs puntuación\n",
        "plt.scatter(dfml['duration_int'], dfml['scored'], alpha=0.5)\n",
        "plt.xlabel('Duración')\n",
        "plt.ylabel('Puntuación')\n",
        "plt.title('Relación entre duración y puntuación')\n",
        "plt.show()\n"
      ],
      "metadata": {
        "colab": {
          "base_uri": "https://localhost:8080/",
          "height": 295
        },
        "id": "WjRVqfRGtkPB",
        "outputId": "ec30fd53-4c48-45bc-f554-2f12c63ad8ef"
      },
      "execution_count": null,
      "outputs": [
        {
          "output_type": "display_data",
          "data": {
            "text/plain": [
              "<Figure size 432x288 with 1 Axes>"
            ],
            "image/png": "[encoded data removed]"
          },
          "metadata": {
            "needs_background": "light"
          }
        }
      ]
    },
    {
      "cell_type": "code",
      "source": [
        "# crear un histograma de la fecha de puntuacion de ls usuarios\n",
        "plt.hist(dfml['timestamp'], bins=20, color='blue', alpha=0.5)\n",
        "plt.xlabel('fecha de calificacion')\n",
        "plt.ylabel('Frecuencia')\n",
        "plt.title('Distribución de puntuaciones por fecha')\n",
        "plt.show()"
      ],
      "metadata": {
        "colab": {
          "base_uri": "https://localhost:8080/",
          "height": 295
        },
        "id": "Bc_OMgzrO3TJ",
        "outputId": "d3400081-6ba4-4b3c-9f5f-fbf3a075f968"
      },
      "execution_count": null,
      "outputs": [
        {
          "output_type": "display_data",
          "data": {
            "text/plain": [
              "<Figure size 432x288 with 1 Axes>"
            ],
            "image/png": "[encoded data removed]"
          },
          "metadata": {
            "needs_background": "light"
          }
        }
      ]
    },
    {
      "cell_type": "code",
      "source": [
        "# crear un histograma de la fecha de publicación de las películas\n",
        "plt.hist(dfml['release_year'], bins=20, color='blue', alpha=0.5)\n",
        "plt.xlabel('Año de publicación')\n",
        "plt.ylabel('Frecuencia')\n",
        "plt.title('Distribución de películas por año de publicación')\n",
        "plt.show()"
      ],
      "metadata": {
        "colab": {
          "base_uri": "https://localhost:8080/",
          "height": 296
        },
        "id": "uOP760KxtlFG",
        "outputId": "7dc4ff05-5661-4e03-a7a4-b353a6e7cd33"
      },
      "execution_count": null,
      "outputs": [
        {
          "output_type": "display_data",
          "data": {
            "text/plain": [
              "<Figure size 432x288 with 1 Axes>"
            ],
            "image/png": "[encoded data removed]"
          },
          "metadata": {
            "needs_background": "light"
          }
        }
      ]
    },
    {
      "cell_type": "code",
      "source": [
        "# crear un boxplot de la duración para detectar outliers\n",
        "plt.boxplot(dfml['duration_int'], vert=False, widths=0.5, showfliers=True, showmeans=True)\n",
        "plt.xlabel('Duración')\n",
        "plt.title('Boxplot para detectar outliers en duración')\n",
        "plt.show()"
      ],
      "metadata": {
        "colab": {
          "base_uri": "https://localhost:8080/",
          "height": 295
        },
        "id": "J2jjcaRIvmCy",
        "outputId": "46d0c199-3ec6-42d9-93ed-a2aeb53616e8"
      },
      "execution_count": null,
      "outputs": [
        {
          "output_type": "display_data",
          "data": {
            "text/plain": [
              "<Figure size 432x288 with 1 Axes>"
            ],
            "image/png": "[encoded data removed]"
          },
          "metadata": {
            "needs_background": "light"
          }
        }
      ]
    },
    {
      "cell_type": "markdown",
      "source": [
        "Descargar archivo"
      ],
      "metadata": {
        "id": "UqN5CrF5dB0F"
      }
    },
    {
      "cell_type": "code",
      "source": [
        "# Escribir archivo Parquet\n",
        "df.to_parquet('dfCodificado.parquet')"
      ],
      "metadata": {
        "id": "SjV9V6Aj3i6Q"
      },
      "execution_count": null,
      "outputs": []
    },
    {
      "cell_type": "code",
      "source": [
        "from google.colab import files\n",
        "\n",
        "files.download('dfCodificado.parquet')"
      ],
      "metadata": {
        "id": "TuZOyf2yaU60"
      },
      "execution_count": null,
      "outputs": []
    },
    {
      "cell_type": "markdown",
      "source": [
        "Modelo de recomendacion con un filtro basado en contenido, teniendo en cuenta  las categorias de las peliculas utilizando una tecnica de clustering y un algoritmo de K-means. Las técnicas para la evaluacion del modelo use el metodo del codo para definir el valos de K y silhuoette para comparar los clusters. "
      ],
      "metadata": {
        "id": "Rtuqg_KIXn9M"
      }
    },
    {
      "cell_type": "code",
      "source": [
        "#cargar el archivo\n",
        "df = pd.read_parquet(\"/content/dfCodificado.parquet\")"
      ],
      "metadata": {
        "id": "H1Pss6b9a4Yo"
      },
      "execution_count": null,
      "outputs": []
    },
    {
      "cell_type": "markdown",
      "source": [
        "Codificar columnas"
      ],
      "metadata": {
        "id": "3rIuf-HiagqY"
      }
    },
    {
      "cell_type": "code",
      "source": [
        "#codificar la columna \"listed_in\"\n",
        "from sklearn.preprocessing import LabelEncoder\n",
        "\n",
        "le = LabelEncoder()\n",
        "df['listed_in_encoded'] = le.fit_transform(df['listed_in'])\n"
      ],
      "metadata": {
        "id": "cllaxEoYXnFo"
      },
      "execution_count": null,
      "outputs": []
    },
    {
      "cell_type": "code",
      "source": [
        "#codificar la columna \"type\"\n",
        "le = LabelEncoder()\n",
        "df['typen_encoded'] = le.fit_transform(df['type'])"
      ],
      "metadata": {
        "id": "Px8wc8X4aXUz"
      },
      "execution_count": null,
      "outputs": []
    },
    {
      "cell_type": "code",
      "source": [
        "# codificar la columna \"ID\"\n",
        "le = LabelEncoder()\n",
        "df['ID_encoded'] = le.fit_transform(df['ID'])"
      ],
      "metadata": {
        "id": "Xsg9-4dTgo2e"
      },
      "execution_count": null,
      "outputs": []
    },
    {
      "cell_type": "code",
      "source": [
        "#  codificar la columna \"userID\"\n",
        "le = LabelEncoder()\n",
        "df['userId_encoded'] = le.fit_transform(df['userId'])"
      ],
      "metadata": {
        "id": "yrQ2vj02iLoj"
      },
      "execution_count": null,
      "outputs": []
    },
    {
      "cell_type": "code",
      "source": [
        "df.head()"
      ],
      "metadata": {
        "colab": {
          "base_uri": "https://localhost:8080/",
          "height": 704
        },
        "id": "gyNOl1kEg2jg",
        "outputId": "eae18162-c297-4a0d-fe72-7cb5fae5e60d"
      },
      "execution_count": null,
      "outputs": [
        {
          "output_type": "execute_result",
          "data": {
            "text/plain": [
              "    type                title                                            cast  \\\n",
              "0  movie  the grand seduction  brendan gleeson, taylor kitsch, gordon pinsent   \n",
              "1  movie  the grand seduction  brendan gleeson, taylor kitsch, gordon pinsent   \n",
              "2  movie  the grand seduction  brendan gleeson, taylor kitsch, gordon pinsent   \n",
              "3  movie  the grand seduction  brendan gleeson, taylor kitsch, gordon pinsent   \n",
              "4  movie  the grand seduction  brendan gleeson, taylor kitsch, gordon pinsent   \n",
              "\n",
              "       listed_in platform   ID  duration_int duration_type  userId  rating_y  \\\n",
              "0  comedy, drama   amazon  as1           113           min     543       5.0   \n",
              "1  comedy, drama   amazon  as1           113           min     595       3.0   \n",
              "2  comedy, drama   amazon  as1           113           min     611       3.0   \n",
              "3  comedy, drama   amazon  as1           113           min    2523       3.5   \n",
              "4  comedy, drama   amazon  as1           113           min    3082       4.0   \n",
              "\n",
              "  movieId    scored  listed_in_encoded  typen_encoded  ID_encoded  \\\n",
              "0     as1  3.467131                652              0           0   \n",
              "1     as1  3.467131                652              0           0   \n",
              "2     as1  3.467131                652              0           0   \n",
              "3     as1  3.467131                652              0           0   \n",
              "4     as1  3.467131                652              0           0   \n",
              "\n",
              "   userId_encoded  \n",
              "0             540  \n",
              "1             592  \n",
              "2             608  \n",
              "3            2511  \n",
              "4            3069  "
            ],
            "text/html": [
              "\n",
              "  <div id=\"df-98c6815e-8381-43b7-8f27-fe6029b11ad8\">\n",
              "    <div class=\"colab-df-container\">\n",
              "      <div>\n",
              "<style scoped>\n",
              "    .dataframe tbody tr th:only-of-type {\n",
              "        vertical-align: middle;\n",
              "    }\n",
              "\n",
              "    .dataframe tbody tr th {\n",
              "        vertical-align: top;\n",
              "    }\n",
              "\n",
              "    .dataframe thead th {\n",
              "        text-align: right;\n",
              "    }\n",
              "</style>\n",
              "<table border=\"1\" class=\"dataframe\">\n",
              "  <thead>\n",
              "    <tr style=\"text-align: right;\">\n",
              "      <th></th>\n",
              "      <th>type</th>\n",
              "      <th>title</th>\n",
              "      <th>cast</th>\n",
              "      <th>listed_in</th>\n",
              "      <th>platform</th>\n",
              "      <th>ID</th>\n",
              "      <th>duration_int</th>\n",
              "      <th>duration_type</th>\n",
              "      <th>userId</th>\n",
              "      <th>rating_y</th>\n",
              "      <th>movieId</th>\n",
              "      <th>scored</th>\n",
              "      <th>listed_in_encoded</th>\n",
              "      <th>typen_encoded</th>\n",
              "      <th>ID_encoded</th>\n",
              "      <th>userId_encoded</th>\n",
              "    </tr>\n",
              "  </thead>\n",
              "  <tbody>\n",
              "    <tr>\n",
              "      <th>0</th>\n",
              "      <td>movie</td>\n",
              "      <td>the grand seduction</td>\n",
              "      <td>brendan gleeson, taylor kitsch, gordon pinsent</td>\n",
              "      <td>comedy, drama</td>\n",
              "      <td>amazon</td>\n",
              "      <td>as1</td>\n",
              "      <td>113</td>\n",
              "      <td>min</td>\n",
              "      <td>543</td>\n",
              "      <td>5.0</td>\n",
              "      <td>as1</td>\n",
              "      <td>3.467131</td>\n",
              "      <td>652</td>\n",
              "      <td>0</td>\n",
              "      <td>0</td>\n",
              "      <td>540</td>\n",
              "    </tr>\n",
              "    <tr>\n",
              "      <th>1</th>\n",
              "      <td>movie</td>\n",
              "      <td>the grand seduction</td>\n",
              "      <td>brendan gleeson, taylor kitsch, gordon pinsent</td>\n",
              "      <td>comedy, drama</td>\n",
              "      <td>amazon</td>\n",
              "      <td>as1</td>\n",
              "      <td>113</td>\n",
              "      <td>min</td>\n",
              "      <td>595</td>\n",
              "      <td>3.0</td>\n",
              "      <td>as1</td>\n",
              "      <td>3.467131</td>\n",
              "      <td>652</td>\n",
              "      <td>0</td>\n",
              "      <td>0</td>\n",
              "      <td>592</td>\n",
              "    </tr>\n",
              "    <tr>\n",
              "      <th>2</th>\n",
              "      <td>movie</td>\n",
              "      <td>the grand seduction</td>\n",
              "      <td>brendan gleeson, taylor kitsch, gordon pinsent</td>\n",
              "      <td>comedy, drama</td>\n",
              "      <td>amazon</td>\n",
              "      <td>as1</td>\n",
              "      <td>113</td>\n",
              "      <td>min</td>\n",
              "      <td>611</td>\n",
              "      <td>3.0</td>\n",
              "      <td>as1</td>\n",
              "      <td>3.467131</td>\n",
              "      <td>652</td>\n",
              "      <td>0</td>\n",
              "      <td>0</td>\n",
              "      <td>608</td>\n",
              "    </tr>\n",
              "    <tr>\n",
              "      <th>3</th>\n",
              "      <td>movie</td>\n",
              "      <td>the grand seduction</td>\n",
              "      <td>brendan gleeson, taylor kitsch, gordon pinsent</td>\n",
              "      <td>comedy, drama</td>\n",
              "      <td>amazon</td>\n",
              "      <td>as1</td>\n",
              "      <td>113</td>\n",
              "      <td>min</td>\n",
              "      <td>2523</td>\n",
              "      <td>3.5</td>\n",
              "      <td>as1</td>\n",
              "      <td>3.467131</td>\n",
              "      <td>652</td>\n",
              "      <td>0</td>\n",
              "      <td>0</td>\n",
              "      <td>2511</td>\n",
              "    </tr>\n",
              "    <tr>\n",
              "      <th>4</th>\n",
              "      <td>movie</td>\n",
              "      <td>the grand seduction</td>\n",
              "      <td>brendan gleeson, taylor kitsch, gordon pinsent</td>\n",
              "      <td>comedy, drama</td>\n",
              "      <td>amazon</td>\n",
              "      <td>as1</td>\n",
              "      <td>113</td>\n",
              "      <td>min</td>\n",
              "      <td>3082</td>\n",
              "      <td>4.0</td>\n",
              "      <td>as1</td>\n",
              "      <td>3.467131</td>\n",
              "      <td>652</td>\n",
              "      <td>0</td>\n",
              "      <td>0</td>\n",
              "      <td>3069</td>\n",
              "    </tr>\n",
              "  </tbody>\n",
              "</table>\n",
              "</div>\n",
              "      <button class=\"colab-df-convert\" onclick=\"convertToInteractive('df-98c6815e-8381-43b7-8f27-fe6029b11ad8')\"\n",
              "              title=\"Convert this dataframe to an interactive table.\"\n",
              "              style=\"display:none;\">\n",
              "        \n",
              "  <svg xmlns=\"http://www.w3.org/2000/svg\" height=\"24px\"viewBox=\"0 0 24 24\"\n",
              "       width=\"24px\">\n",
              "    <path d=\"M0 0h24v24H0V0z\" fill=\"none\"/>\n",
              "    <path d=\"M18.56 5.44l.94 2.06.94-2.06 2.06-.94-2.06-.94-.94-2.06-.94 2.06-2.06.94zm-11 1L8.5 8.5l.94-2.06 2.06-.94-2.06-.94L8.5 2.5l-.94 2.06-2.06.94zm10 10l.94 2.06.94-2.06 2.06-.94-2.06-.94-.94-2.06-.94 2.06-2.06.94z\"/><path d=\"M17.41 7.96l-1.37-1.37c-.4-.4-.92-.59-1.43-.59-.52 0-1.04.2-1.43.59L10.3 9.45l-7.72 7.72c-.78.78-.78 2.05 0 2.83L4 21.41c.39.39.9.59 1.41.59.51 0 1.02-.2 1.41-.59l7.78-7.78 2.81-2.81c.8-.78.8-2.07 0-2.86zM5.41 20L4 18.59l7.72-7.72 1.47 1.35L5.41 20z\"/>\n",
              "  </svg>\n",
              "      </button>\n",
              "      \n",
              "  <style>\n",
              "    .colab-df-container {\n",
              "      display:flex;\n",
              "      flex-wrap:wrap;\n",
              "      gap: 12px;\n",
              "    }\n",
              "\n",
              "    .colab-df-convert {\n",
              "      background-color: #E8F0FE;\n",
              "      border: none;\n",
              "      border-radius: 50%;\n",
              "      cursor: pointer;\n",
              "      display: none;\n",
              "      fill: #1967D2;\n",
              "      height: 32px;\n",
              "      padding: 0 0 0 0;\n",
              "      width: 32px;\n",
              "    }\n",
              "\n",
              "    .colab-df-convert:hover {\n",
              "      background-color: #E2EBFA;\n",
              "      box-shadow: 0px 1px 2px rgba(60, 64, 67, 0.3), 0px 1px 3px 1px rgba(60, 64, 67, 0.15);\n",
              "      fill: #174EA6;\n",
              "    }\n",
              "\n",
              "    [theme=dark] .colab-df-convert {\n",
              "      background-color: #3B4455;\n",
              "      fill: #D2E3FC;\n",
              "    }\n",
              "\n",
              "    [theme=dark] .colab-df-convert:hover {\n",
              "      background-color: #434B5C;\n",
              "      box-shadow: 0px 1px 3px 1px rgba(0, 0, 0, 0.15);\n",
              "      filter: drop-shadow(0px 1px 2px rgba(0, 0, 0, 0.3));\n",
              "      fill: #FFFFFF;\n",
              "    }\n",
              "  </style>\n",
              "\n",
              "      <script>\n",
              "        const buttonEl =\n",
              "          document.querySelector('#df-98c6815e-8381-43b7-8f27-fe6029b11ad8 button.colab-df-convert');\n",
              "        buttonEl.style.display =\n",
              "          google.colab.kernel.accessAllowed ? 'block' : 'none';\n",
              "\n",
              "        async function convertToInteractive(key) {\n",
              "          const element = document.querySelector('#df-98c6815e-8381-43b7-8f27-fe6029b11ad8');\n",
              "          const dataTable =\n",
              "            await google.colab.kernel.invokeFunction('convertToInteractive',\n",
              "                                                     [key], {});\n",
              "          if (!dataTable) return;\n",
              "\n",
              "          const docLinkHtml = 'Like what you see? Visit the ' +\n",
              "            '<a target=\"_blank\" href=https://colab.research.google.com/notebooks/data_table.ipynb>data table notebook</a>'\n",
              "            + ' to learn more about interactive tables.';\n",
              "          element.innerHTML = '';\n",
              "          dataTable['output_type'] = 'display_data';\n",
              "          await google.colab.output.renderOutput(dataTable, element);\n",
              "          const docLink = document.createElement('div');\n",
              "          docLink.innerHTML = docLinkHtml;\n",
              "          element.appendChild(docLink);\n",
              "        }\n",
              "      </script>\n",
              "    </div>\n",
              "  </div>\n",
              "  "
            ]
          },
          "metadata": {},
          "execution_count": 58
        }
      ]
    },
    {
      "cell_type": "markdown",
      "source": [
        "Modelo k-means"
      ],
      "metadata": {
        "id": "TIfZ_2RFcDfo"
      }
    },
    {
      "cell_type": "code",
      "source": [
        "# Importar las librerías necesarias\n",
        "from sklearn.cluster import KMeans\n",
        "from sklearn.preprocessing import MinMaxScaler\n",
        "from sklearn.compose import ColumnTransformer\n",
        "from sklearn.pipeline import Pipeline\n",
        "from sklearn.decomposition import PCA\n",
        "\n",
        "#cargar el archivo\n",
        "df = pd.read_parquet(\"/content/dfCodificado.parquet\")\n",
        "\n",
        "# Reducir la dimensionalidad del conjunto de datos\n",
        "pca = PCA(n_components=2)\n",
        "pandas_df_pca = pca.fit_transform(df[cluster_features])\n",
        "\n",
        "# Seleccionar las características para entrenar el modelo\n",
        "cluster_features = [\"listed_in_encoded\", \"rating_y\"]\n",
        "\n",
        "# Escalar los datos\n",
        "scaler = MinMaxScaler()\n",
        "cluster_transformer = ColumnTransformer(transformers=[('num', scaler, cluster_features)])\n",
        "\n",
        "# Entrenar el modelo K-means\n",
        "kmeans = KMeans(n_clusters=3, random_state=0)\n",
        "cluster_pipeline = Pipeline(steps=[('preprocessor', cluster_transformer), ('kmeans', kmeans)])\n",
        "cluster_pipeline.fit(df)\n",
        "\n",
        "# Agregar una columna 'cluster' al DataFrame original\n",
        "df['cluster'] = kmeans.predict(pandas_df_pca)\n",
        "\n",
        "\n",
        "\n"
      ],
      "metadata": {
        "colab": {
          "base_uri": "https://localhost:8080/"
        },
        "id": "3gJFTi3ZaquD",
        "outputId": "df1d20cb-d053-463e-9015-0e8ce5eb8cb1"
      },
      "execution_count": null,
      "outputs": [
        {
          "output_type": "execute_result",
          "data": {
            "text/plain": [
              "Pipeline(steps=[('preprocessor',\n",
              "                 ColumnTransformer(transformers=[('num', MinMaxScaler(),\n",
              "                                                  ['listed_in_encoded',\n",
              "                                                   'rating_y'])])),\n",
              "                ('kmeans', KMeans(n_clusters=3, random_state=0))])"
            ]
          },
          "metadata": {},
          "execution_count": 16
        }
      ]
    },
    {
      "cell_type": "code",
      "source": [],
      "metadata": {
        "id": "QpCpi_ckc1X5"
      },
      "execution_count": null,
      "outputs": []
    },
    {
      "cell_type": "markdown",
      "source": [
        "evaluar el modelo "
      ],
      "metadata": {
        "id": "ji2uk5yHxC04"
      }
    },
    {
      "cell_type": "markdown",
      "source": [
        "metrica de silhouette"
      ],
      "metadata": {
        "id": "x2BkxJtVxGrz"
      }
    },
    {
      "cell_type": "code",
      "source": [
        "from sklearn.metrics import silhouette_score\n",
        "\n",
        "# Obtener las predicciones del modelo\n",
        "labels = kmeans.predict(df[cluster_features])\n",
        "\n",
        "# Calcular la métrica de silueta\n",
        "silhouette_avg = silhouette_score(df[cluster_features], labels)\n",
        "print(\"La métrica de silueta es:\", silhouette_avg)\n"
      ],
      "metadata": {
        "id": "1ero7kt5z04_",
        "colab": {
          "base_uri": "https://localhost:8080/"
        },
        "outputId": "a18b8eda-6fd1-424f-e532-511931fc0b4a"
      },
      "execution_count": null,
      "outputs": [
        {
          "output_type": "stream",
          "name": "stderr",
          "text": [
            "/usr/local/lib/python3.8/dist-packages/sklearn/base.py:443: UserWarning: X has feature names, but KMeans was fitted without feature names\n",
            "  warnings.warn(\n"
          ]
        }
      ]
    },
    {
      "cell_type": "markdown",
      "source": [
        "metrica del codo"
      ],
      "metadata": {
        "id": "yGkDWMSQxEvf"
      }
    },
    {
      "cell_type": "code",
      "source": [
        "import matplotlib.pyplot as plt\n",
        "from sklearn.cluster import KMeans\n",
        "from sklearn.preprocessing import MinMaxScaler\n",
        "from sklearn.compose import ColumnTransformer\n",
        "from sklearn.pipeline import Pipeline\n",
        "\n",
        "\n",
        "# Seleccionar las características para entrenar el modelo\n",
        "cluster_features = [\"listed_in_encoded\", \"rating_y\"]\n",
        "\n",
        "# Escalar los datos\n",
        "scaler = MinMaxScaler()\n",
        "cluster_transformer = ColumnTransformer(transformers=[('num', scaler, cluster_features)])\n",
        "\n",
        "# Definir una lista de posibles valores de k\n",
        "k_values = range(1, 10)\n",
        "\n",
        "# Entrenar un modelo K-means para cada valor de k y guardar la inercia\n",
        "inertias = []\n",
        "for k in k_values:\n",
        "    kmeans = KMeans(n_clusters=k, random_state=0)\n",
        "    cluster_pipeline = Pipeline(steps=[('preprocessor', cluster_transformer), ('kmeans', kmeans)])\n",
        "    cluster_pipeline.fit(df)\n",
        "    inertias.append(kmeans.inertia_)\n",
        "\n",
        "# Graficar la curva del codo\n",
        "plt.plot(k_values, inertias, '-o')\n",
        "plt.xlabel('Número de clusters (k)')\n",
        "plt.ylabel('Inercia')\n",
        "plt.title('Curva del codo para K-means')\n",
        "plt.show()\n"
      ],
      "metadata": {
        "colab": {
          "base_uri": "https://localhost:8080/",
          "height": 295
        },
        "id": "ycBlZgG-zuT8",
        "outputId": "007f345c-5353-46ac-850f-39f49f49d7d4"
      },
      "execution_count": null,
      "outputs": [
        {
          "output_type": "display_data",
          "data": {
            "text/plain": [
              "<Figure size 432x288 with 1 Axes>"
            ],
            "image/png": "[encoded data removed]"
          },
          "metadata": {
            "needs_background": "light"
          }
        }
      ]
    },
    {
      "cell_type": "code",
      "source": [
        "# Recomendar películas similares a la ingresada por el usuario\n",
        "input_movie = \"the grand seduction\"\n",
        "input_movie_data = df[df['title'] == input_movie]\n",
        "input_movie_cluster = cluster_pipeline.predict(input_movie_data)\n",
        "\n",
        "recommendations = df[df['cluster'] == input_movie_cluster[0]].sort_values('rating_y', ascending=False)[1:3]\n",
        "print(recommendations['title'])\n"
      ],
      "metadata": {
        "id": "sLpJ4a-RpTuL",
        "colab": {
          "base_uri": "https://localhost:8080/"
        },
        "outputId": "43054279-3f47-4a14-d003-d9608ccdc8fd"
      },
      "execution_count": null,
      "outputs": [
        {
          "output_type": "stream",
          "name": "stdout",
          "text": [
            "9285451                mubarakan\n",
            "2284951    rosalie goes shopping\n",
            "Name: title, dtype: object\n"
          ]
        }
      ]
    },
    {
      "cell_type": "code",
      "source": [
        "#funcion para la api\n",
        "def recommend_movies(input_movie):\n",
        "    num_recommendations = 2\n",
        "    # Filtrar la información de la película ingresada por el usuario\n",
        "    input_movie_data = df[df['title'] == input_movie]\n",
        "    \n",
        "    # Predecir el cluster de la película ingresada por el usuario\n",
        "    input_movie_cluster = cluster_pipeline.predict(input_movie_data)\n",
        "    \n",
        "    # Filtrar las películas que pertenecen al mismo cluster que la película ingresada por el usuario\n",
        "    recommendations = df[df['cluster'] == input_movie_cluster[0]]\n",
        "    \n",
        "    # Ordenar las películas por puntaje descendente\n",
        "    recommendations = recommendations.sort_values('rating_y', ascending=False)\n",
        "    \n",
        "   # Devolver la lista de películas recomendadas, a partir del segundo elemento\n",
        "    return recommendations['title'].iloc[1:num_recommendations+1].tolist()\n",
        "\n",
        "\n"
      ],
      "metadata": {
        "id": "54vAfZlB1h_i"
      },
      "execution_count": null,
      "outputs": []
    },
    {
      "cell_type": "code",
      "source": [
        "input_movie = \"the grand seduction\"\n",
        "num_recommendations = 2\n",
        "recommend_movies(input_movie, df, cluster_pipeline, num_recommendations)"
      ],
      "metadata": {
        "colab": {
          "base_uri": "https://localhost:8080/"
        },
        "id": "VhsHC_oTfv1f",
        "outputId": "0338a130-9ac3-4c11-8f57-39a02ff45ea2"
      },
      "execution_count": null,
      "outputs": [
        {
          "output_type": "execute_result",
          "data": {
            "text/plain": [
              "['mubarakan', 'rosalie goes shopping']"
            ]
          },
          "metadata": {},
          "execution_count": 25
        }
      ]
    },
    {
      "cell_type": "code",
      "source": [
        "!pip install scikit-learn\n"
      ],
      "metadata": {
        "colab": {
          "base_uri": "https://localhost:8080/"
        },
        "id": "JM6nxMbjeTbl",
        "outputId": "a572aef9-65f8-49b1-a8f4-c75f16d7f861"
      },
      "execution_count": null,
      "outputs": [
        {
          "output_type": "stream",
          "name": "stdout",
          "text": [
            "Looking in indexes: https://pypi.org/simple, https://us-python.pkg.dev/colab-wheels/public/simple/\n",
            "Requirement already satisfied: scikit-learn in /usr/local/lib/python3.8/dist-packages (1.0.2)\n",
            "Requirement already satisfied: numpy>=1.14.6 in /usr/local/lib/python3.8/dist-packages (from scikit-learn) (1.21.6)\n",
            "Requirement already satisfied: joblib>=0.11 in /usr/local/lib/python3.8/dist-packages (from scikit-learn) (1.2.0)\n",
            "Requirement already satisfied: threadpoolctl>=2.0.0 in /usr/local/lib/python3.8/dist-packages (from scikit-learn) (3.1.0)\n",
            "Requirement already satisfied: scipy>=1.1.0 in /usr/local/lib/python3.8/dist-packages (from scikit-learn) (1.7.3)\n"
          ]
        }
      ]
    }
  ]
}