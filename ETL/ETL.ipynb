{
  "cells": [
    {
      "cell_type": "code",
      "source": [
        "from google.colab import drive\n",
        "drive.mount('/content/drive')\n"
      ],
      "metadata": {
        "colab": {
          "base_uri": "https://localhost:8080/"
        },
        "id": "-SqiTSd1Ghyl",
        "outputId": "3cf9021a-c5c4-437e-ff62-a6bed685a92c"
      },
      "execution_count": null,
      "outputs": [
        {
          "output_type": "stream",
          "name": "stdout",
          "text": [
            "Mounted at /content/drive\n"
          ]
        }
      ]
    },
    {
      "cell_type": "code",
      "execution_count": null,
      "metadata": {
        "id": "wzEo8bK-GVU7"
      },
      "outputs": [],
      "source": [
        "import pandas as pd\n",
        "import numpy as np"
      ]
    },
    {
      "cell_type": "markdown",
      "metadata": {
        "id": "Ql7CfWIjGVVJ"
      },
      "source": [
        "Abrir csv amazon"
      ]
    },
    {
      "cell_type": "code",
      "execution_count": null,
      "metadata": {
        "id": "KvNgVAp5GVVL",
        "colab": {
          "base_uri": "https://localhost:8080/",
          "height": 311
        },
        "outputId": "42d11f48-0ed1-48df-da19-89b9bb7e3e10"
      },
      "outputs": [
        {
          "output_type": "error",
          "ename": "FileNotFoundError",
          "evalue": "ignored",
          "traceback": [
            "\u001b[0;31m---------------------------------------------------------------------------\u001b[0m",
            "\u001b[0;31mFileNotFoundError\u001b[0m                         Traceback (most recent call last)",
            "\u001b[0;32m<ipython-input-3-5d6dd404f568>\u001b[0m in \u001b[0;36m<module>\u001b[0;34m\u001b[0m\n\u001b[0;32m----> 1\u001b[0;31m \u001b[0mamazon\u001b[0m \u001b[0;34m=\u001b[0m \u001b[0mpd\u001b[0m\u001b[0;34m.\u001b[0m\u001b[0mread_csv\u001b[0m\u001b[0;34m(\u001b[0m\u001b[0;34mr'MLOpsReviews-20230213T153411Z-001\\MLOpsReviews\\amazon_prime_titles.csv'\u001b[0m\u001b[0;34m)\u001b[0m\u001b[0;34m\u001b[0m\u001b[0;34m\u001b[0m\u001b[0m\n\u001b[0m",
            "\u001b[0;32m/usr/local/lib/python3.8/dist-packages/pandas/util/_decorators.py\u001b[0m in \u001b[0;36mwrapper\u001b[0;34m(*args, **kwargs)\u001b[0m\n\u001b[1;32m    309\u001b[0m                     \u001b[0mstacklevel\u001b[0m\u001b[0;34m=\u001b[0m\u001b[0mstacklevel\u001b[0m\u001b[0;34m,\u001b[0m\u001b[0;34m\u001b[0m\u001b[0;34m\u001b[0m\u001b[0m\n\u001b[1;32m    310\u001b[0m                 )\n\u001b[0;32m--> 311\u001b[0;31m             \u001b[0;32mreturn\u001b[0m \u001b[0mfunc\u001b[0m\u001b[0;34m(\u001b[0m\u001b[0;34m*\u001b[0m\u001b[0margs\u001b[0m\u001b[0;34m,\u001b[0m \u001b[0;34m**\u001b[0m\u001b[0mkwargs\u001b[0m\u001b[0;34m)\u001b[0m\u001b[0;34m\u001b[0m\u001b[0;34m\u001b[0m\u001b[0m\n\u001b[0m\u001b[1;32m    312\u001b[0m \u001b[0;34m\u001b[0m\u001b[0m\n\u001b[1;32m    313\u001b[0m         \u001b[0;32mreturn\u001b[0m \u001b[0mwrapper\u001b[0m\u001b[0;34m\u001b[0m\u001b[0;34m\u001b[0m\u001b[0m\n",
            "\u001b[0;32m/usr/local/lib/python3.8/dist-packages/pandas/io/parsers/readers.py\u001b[0m in \u001b[0;36mread_csv\u001b[0;34m(filepath_or_buffer, sep, delimiter, header, names, index_col, usecols, squeeze, prefix, mangle_dupe_cols, dtype, engine, converters, true_values, false_values, skipinitialspace, skiprows, skipfooter, nrows, na_values, keep_default_na, na_filter, verbose, skip_blank_lines, parse_dates, infer_datetime_format, keep_date_col, date_parser, dayfirst, cache_dates, iterator, chunksize, compression, thousands, decimal, lineterminator, quotechar, quoting, doublequote, escapechar, comment, encoding, encoding_errors, dialect, error_bad_lines, warn_bad_lines, on_bad_lines, delim_whitespace, low_memory, memory_map, float_precision, storage_options)\u001b[0m\n\u001b[1;32m    584\u001b[0m     \u001b[0mkwds\u001b[0m\u001b[0;34m.\u001b[0m\u001b[0mupdate\u001b[0m\u001b[0;34m(\u001b[0m\u001b[0mkwds_defaults\u001b[0m\u001b[0;34m)\u001b[0m\u001b[0;34m\u001b[0m\u001b[0;34m\u001b[0m\u001b[0m\n\u001b[1;32m    585\u001b[0m \u001b[0;34m\u001b[0m\u001b[0m\n\u001b[0;32m--> 586\u001b[0;31m     \u001b[0;32mreturn\u001b[0m \u001b[0m_read\u001b[0m\u001b[0;34m(\u001b[0m\u001b[0mfilepath_or_buffer\u001b[0m\u001b[0;34m,\u001b[0m \u001b[0mkwds\u001b[0m\u001b[0;34m)\u001b[0m\u001b[0;34m\u001b[0m\u001b[0;34m\u001b[0m\u001b[0m\n\u001b[0m\u001b[1;32m    587\u001b[0m \u001b[0;34m\u001b[0m\u001b[0m\n\u001b[1;32m    588\u001b[0m \u001b[0;34m\u001b[0m\u001b[0m\n",
            "\u001b[0;32m/usr/local/lib/python3.8/dist-packages/pandas/io/parsers/readers.py\u001b[0m in \u001b[0;36m_read\u001b[0;34m(filepath_or_buffer, kwds)\u001b[0m\n\u001b[1;32m    480\u001b[0m \u001b[0;34m\u001b[0m\u001b[0m\n\u001b[1;32m    481\u001b[0m     \u001b[0;31m# Create the parser.\u001b[0m\u001b[0;34m\u001b[0m\u001b[0;34m\u001b[0m\u001b[0;34m\u001b[0m\u001b[0m\n\u001b[0;32m--> 482\u001b[0;31m     \u001b[0mparser\u001b[0m \u001b[0;34m=\u001b[0m \u001b[0mTextFileReader\u001b[0m\u001b[0;34m(\u001b[0m\u001b[0mfilepath_or_buffer\u001b[0m\u001b[0;34m,\u001b[0m \u001b[0;34m**\u001b[0m\u001b[0mkwds\u001b[0m\u001b[0;34m)\u001b[0m\u001b[0;34m\u001b[0m\u001b[0;34m\u001b[0m\u001b[0m\n\u001b[0m\u001b[1;32m    483\u001b[0m \u001b[0;34m\u001b[0m\u001b[0m\n\u001b[1;32m    484\u001b[0m     \u001b[0;32mif\u001b[0m \u001b[0mchunksize\u001b[0m \u001b[0;32mor\u001b[0m \u001b[0miterator\u001b[0m\u001b[0;34m:\u001b[0m\u001b[0;34m\u001b[0m\u001b[0;34m\u001b[0m\u001b[0m\n",
            "\u001b[0;32m/usr/local/lib/python3.8/dist-packages/pandas/io/parsers/readers.py\u001b[0m in \u001b[0;36m__init__\u001b[0;34m(self, f, engine, **kwds)\u001b[0m\n\u001b[1;32m    809\u001b[0m             \u001b[0mself\u001b[0m\u001b[0;34m.\u001b[0m\u001b[0moptions\u001b[0m\u001b[0;34m[\u001b[0m\u001b[0;34m\"has_index_names\"\u001b[0m\u001b[0;34m]\u001b[0m \u001b[0;34m=\u001b[0m \u001b[0mkwds\u001b[0m\u001b[0;34m[\u001b[0m\u001b[0;34m\"has_index_names\"\u001b[0m\u001b[0;34m]\u001b[0m\u001b[0;34m\u001b[0m\u001b[0;34m\u001b[0m\u001b[0m\n\u001b[1;32m    810\u001b[0m \u001b[0;34m\u001b[0m\u001b[0m\n\u001b[0;32m--> 811\u001b[0;31m         \u001b[0mself\u001b[0m\u001b[0;34m.\u001b[0m\u001b[0m_engine\u001b[0m \u001b[0;34m=\u001b[0m \u001b[0mself\u001b[0m\u001b[0;34m.\u001b[0m\u001b[0m_make_engine\u001b[0m\u001b[0;34m(\u001b[0m\u001b[0mself\u001b[0m\u001b[0;34m.\u001b[0m\u001b[0mengine\u001b[0m\u001b[0;34m)\u001b[0m\u001b[0;34m\u001b[0m\u001b[0;34m\u001b[0m\u001b[0m\n\u001b[0m\u001b[1;32m    812\u001b[0m \u001b[0;34m\u001b[0m\u001b[0m\n\u001b[1;32m    813\u001b[0m     \u001b[0;32mdef\u001b[0m \u001b[0mclose\u001b[0m\u001b[0;34m(\u001b[0m\u001b[0mself\u001b[0m\u001b[0;34m)\u001b[0m\u001b[0;34m:\u001b[0m\u001b[0;34m\u001b[0m\u001b[0;34m\u001b[0m\u001b[0m\n",
            "\u001b[0;32m/usr/local/lib/python3.8/dist-packages/pandas/io/parsers/readers.py\u001b[0m in \u001b[0;36m_make_engine\u001b[0;34m(self, engine)\u001b[0m\n\u001b[1;32m   1038\u001b[0m             )\n\u001b[1;32m   1039\u001b[0m         \u001b[0;31m# error: Too many arguments for \"ParserBase\"\u001b[0m\u001b[0;34m\u001b[0m\u001b[0;34m\u001b[0m\u001b[0;34m\u001b[0m\u001b[0m\n\u001b[0;32m-> 1040\u001b[0;31m         \u001b[0;32mreturn\u001b[0m \u001b[0mmapping\u001b[0m\u001b[0;34m[\u001b[0m\u001b[0mengine\u001b[0m\u001b[0;34m]\u001b[0m\u001b[0;34m(\u001b[0m\u001b[0mself\u001b[0m\u001b[0;34m.\u001b[0m\u001b[0mf\u001b[0m\u001b[0;34m,\u001b[0m \u001b[0;34m**\u001b[0m\u001b[0mself\u001b[0m\u001b[0;34m.\u001b[0m\u001b[0moptions\u001b[0m\u001b[0;34m)\u001b[0m  \u001b[0;31m# type: ignore[call-arg]\u001b[0m\u001b[0;34m\u001b[0m\u001b[0;34m\u001b[0m\u001b[0m\n\u001b[0m\u001b[1;32m   1041\u001b[0m \u001b[0;34m\u001b[0m\u001b[0m\n\u001b[1;32m   1042\u001b[0m     \u001b[0;32mdef\u001b[0m \u001b[0m_failover_to_python\u001b[0m\u001b[0;34m(\u001b[0m\u001b[0mself\u001b[0m\u001b[0;34m)\u001b[0m\u001b[0;34m:\u001b[0m\u001b[0;34m\u001b[0m\u001b[0;34m\u001b[0m\u001b[0m\n",
            "\u001b[0;32m/usr/local/lib/python3.8/dist-packages/pandas/io/parsers/c_parser_wrapper.py\u001b[0m in \u001b[0;36m__init__\u001b[0;34m(self, src, **kwds)\u001b[0m\n\u001b[1;32m     49\u001b[0m \u001b[0;34m\u001b[0m\u001b[0m\n\u001b[1;32m     50\u001b[0m         \u001b[0;31m# open handles\u001b[0m\u001b[0;34m\u001b[0m\u001b[0;34m\u001b[0m\u001b[0;34m\u001b[0m\u001b[0m\n\u001b[0;32m---> 51\u001b[0;31m         \u001b[0mself\u001b[0m\u001b[0;34m.\u001b[0m\u001b[0m_open_handles\u001b[0m\u001b[0;34m(\u001b[0m\u001b[0msrc\u001b[0m\u001b[0;34m,\u001b[0m \u001b[0mkwds\u001b[0m\u001b[0;34m)\u001b[0m\u001b[0;34m\u001b[0m\u001b[0;34m\u001b[0m\u001b[0m\n\u001b[0m\u001b[1;32m     52\u001b[0m         \u001b[0;32massert\u001b[0m \u001b[0mself\u001b[0m\u001b[0;34m.\u001b[0m\u001b[0mhandles\u001b[0m \u001b[0;32mis\u001b[0m \u001b[0;32mnot\u001b[0m \u001b[0;32mNone\u001b[0m\u001b[0;34m\u001b[0m\u001b[0;34m\u001b[0m\u001b[0m\n\u001b[1;32m     53\u001b[0m \u001b[0;34m\u001b[0m\u001b[0m\n",
            "\u001b[0;32m/usr/local/lib/python3.8/dist-packages/pandas/io/parsers/base_parser.py\u001b[0m in \u001b[0;36m_open_handles\u001b[0;34m(self, src, kwds)\u001b[0m\n\u001b[1;32m    220\u001b[0m         \u001b[0mLet\u001b[0m \u001b[0mthe\u001b[0m \u001b[0mreaders\u001b[0m \u001b[0mopen\u001b[0m \u001b[0mIOHandles\u001b[0m \u001b[0mafter\u001b[0m \u001b[0mthey\u001b[0m \u001b[0mare\u001b[0m \u001b[0mdone\u001b[0m \u001b[0;32mwith\u001b[0m \u001b[0mtheir\u001b[0m \u001b[0mpotential\u001b[0m \u001b[0mraises\u001b[0m\u001b[0;34m.\u001b[0m\u001b[0;34m\u001b[0m\u001b[0;34m\u001b[0m\u001b[0m\n\u001b[1;32m    221\u001b[0m         \"\"\"\n\u001b[0;32m--> 222\u001b[0;31m         self.handles = get_handle(\n\u001b[0m\u001b[1;32m    223\u001b[0m             \u001b[0msrc\u001b[0m\u001b[0;34m,\u001b[0m\u001b[0;34m\u001b[0m\u001b[0;34m\u001b[0m\u001b[0m\n\u001b[1;32m    224\u001b[0m             \u001b[0;34m\"r\"\u001b[0m\u001b[0;34m,\u001b[0m\u001b[0;34m\u001b[0m\u001b[0;34m\u001b[0m\u001b[0m\n",
            "\u001b[0;32m/usr/local/lib/python3.8/dist-packages/pandas/io/common.py\u001b[0m in \u001b[0;36mget_handle\u001b[0;34m(path_or_buf, mode, encoding, compression, memory_map, is_text, errors, storage_options)\u001b[0m\n\u001b[1;32m    700\u001b[0m         \u001b[0;32mif\u001b[0m \u001b[0mioargs\u001b[0m\u001b[0;34m.\u001b[0m\u001b[0mencoding\u001b[0m \u001b[0;32mand\u001b[0m \u001b[0;34m\"b\"\u001b[0m \u001b[0;32mnot\u001b[0m \u001b[0;32min\u001b[0m \u001b[0mioargs\u001b[0m\u001b[0;34m.\u001b[0m\u001b[0mmode\u001b[0m\u001b[0;34m:\u001b[0m\u001b[0;34m\u001b[0m\u001b[0;34m\u001b[0m\u001b[0m\n\u001b[1;32m    701\u001b[0m             \u001b[0;31m# Encoding\u001b[0m\u001b[0;34m\u001b[0m\u001b[0;34m\u001b[0m\u001b[0;34m\u001b[0m\u001b[0m\n\u001b[0;32m--> 702\u001b[0;31m             handle = open(\n\u001b[0m\u001b[1;32m    703\u001b[0m                 \u001b[0mhandle\u001b[0m\u001b[0;34m,\u001b[0m\u001b[0;34m\u001b[0m\u001b[0;34m\u001b[0m\u001b[0m\n\u001b[1;32m    704\u001b[0m                 \u001b[0mioargs\u001b[0m\u001b[0;34m.\u001b[0m\u001b[0mmode\u001b[0m\u001b[0;34m,\u001b[0m\u001b[0;34m\u001b[0m\u001b[0;34m\u001b[0m\u001b[0m\n",
            "\u001b[0;31mFileNotFoundError\u001b[0m: [Errno 2] No such file or directory: 'MLOpsReviews-20230213T153411Z-001\\\\MLOpsReviews\\\\amazon_prime_titles.csv'"
          ]
        }
      ],
      "source": [
        "amazon = pd.read_csv(r'MLOpsReviews-20230213T153411Z-001\\MLOpsReviews\\amazon_prime_titles.csv')"
      ]
    },
    {
      "cell_type": "markdown",
      "metadata": {
        "id": "6wNN0j_aGVVM"
      },
      "source": [
        "agregar columna platform"
      ]
    },
    {
      "cell_type": "code",
      "execution_count": null,
      "metadata": {
        "id": "liVHiGuGGVVM"
      },
      "outputs": [],
      "source": [
        "amazon['platform'] = 'amazon'"
      ]
    },
    {
      "cell_type": "code",
      "execution_count": null,
      "metadata": {
        "id": "zQ40gIfdGVVN"
      },
      "outputs": [],
      "source": [
        "amazon"
      ]
    },
    {
      "cell_type": "markdown",
      "metadata": {
        "id": "lm5zWuO9GVVP"
      },
      "source": [
        "Crear columna ID con la primera letra del csv y la columna Show_id"
      ]
    },
    {
      "cell_type": "code",
      "execution_count": null,
      "metadata": {
        "id": "JhgzAMiuGVVT"
      },
      "outputs": [],
      "source": [
        "amazon['ID'] = 'a' + (amazon ['show_id'])\n",
        "\n"
      ]
    },
    {
      "cell_type": "code",
      "execution_count": null,
      "metadata": {
        "id": "fRo_u7XFGVVU"
      },
      "outputs": [],
      "source": [
        "amazon.head(2)"
      ]
    },
    {
      "cell_type": "markdown",
      "metadata": {
        "id": "e11IMULhGVVV"
      },
      "source": [
        "Reemplazar los valores nulos de la columna Ratins por 'G'"
      ]
    },
    {
      "cell_type": "code",
      "execution_count": null,
      "metadata": {
        "id": "DSu0tWj7GVVW"
      },
      "outputs": [],
      "source": [
        "amazon['rating'].fillna(\"G\", inplace=True)"
      ]
    },
    {
      "cell_type": "markdown",
      "metadata": {
        "id": "muiRgjwqGVVW"
      },
      "source": [
        "Ordenar la columna que contiene fecha, De haber fechas, deberán tener el formato AAAA-mm-dd"
      ]
    },
    {
      "cell_type": "code",
      "execution_count": null,
      "metadata": {
        "id": "T_pMMvyMGVVX"
      },
      "outputs": [],
      "source": [
        "amazon['date_added'] = pd.to_datetime(amazon['date_added'], format=\"%B %d, %Y\")\n",
        "amazon"
      ]
    },
    {
      "cell_type": "markdown",
      "metadata": {
        "id": "iEnx7-JbGVVX"
      },
      "source": [
        "Normalizacion, todo en minuscula nada en mayuscula, por columna"
      ]
    },
    {
      "cell_type": "code",
      "execution_count": null,
      "metadata": {
        "id": "G6B2zjT1GVVY"
      },
      "outputs": [],
      "source": [
        "amazon['cast']= amazon['cast'].str.lower()\n",
        "amazon.head(2)"
      ]
    },
    {
      "cell_type": "code",
      "execution_count": null,
      "metadata": {
        "id": "objD9j8AGVVZ"
      },
      "outputs": [],
      "source": [
        "amazon['rating']= amazon['rating'].str.lower()"
      ]
    },
    {
      "cell_type": "code",
      "execution_count": null,
      "metadata": {
        "id": "cBgNHDvyGVVZ"
      },
      "outputs": [],
      "source": [
        "amazon['description']= amazon['description'].str.lower()\n"
      ]
    },
    {
      "cell_type": "code",
      "execution_count": null,
      "metadata": {
        "id": "SY0T48otGVVa"
      },
      "outputs": [],
      "source": [
        "amazon['listed_in']= amazon['listed_in'].str.lower()\n"
      ]
    },
    {
      "cell_type": "code",
      "execution_count": null,
      "metadata": {
        "id": "AdQUes2gGVVb"
      },
      "outputs": [],
      "source": [
        "amazon['country']= amazon['country'].str.lower()\n"
      ]
    },
    {
      "cell_type": "code",
      "execution_count": null,
      "metadata": {
        "id": "K8520KrFGVVb"
      },
      "outputs": [],
      "source": [
        "amazon['type']= amazon['type'].str.lower()\n"
      ]
    },
    {
      "cell_type": "code",
      "execution_count": null,
      "metadata": {
        "id": "_eng-BBaGVVc"
      },
      "outputs": [],
      "source": [
        "amazon['title']= amazon['title'].str.lower()\n"
      ]
    },
    {
      "cell_type": "code",
      "execution_count": null,
      "metadata": {
        "id": "4h6Ar_fAGVVd"
      },
      "outputs": [],
      "source": [
        "amazon['director']= amazon['director'].str.lower()\n",
        "amazon"
      ]
    },
    {
      "cell_type": "markdown",
      "metadata": {
        "id": "WMmRRprlGVVd"
      },
      "source": [
        "El campo duration debe convertirse en dos campos: duration_int y duration_type. El primero será un integer y el segundo un string indicando la unidad de medición de duración: min (minutos) o season (temporadas)\n",
        "\n",
        "Separar el numero del strig"
      ]
    },
    {
      "cell_type": "code",
      "execution_count": null,
      "metadata": {
        "id": "WvNkMyRQGVVe"
      },
      "outputs": [],
      "source": [
        "amazon[['duration_int','duration_type']]=amazon.duration.str.split(expand=True)\n",
        "amazon"
      ]
    },
    {
      "cell_type": "markdown",
      "metadata": {
        "id": "MXw1iUSDGVVf"
      },
      "source": [
        "Proceso de trasnformacion de datos con disney"
      ]
    },
    {
      "cell_type": "code",
      "execution_count": null,
      "metadata": {
        "id": "q8MEnp-vGVVg"
      },
      "outputs": [],
      "source": [
        "disney = pd.read_csv(r'MLOpsReviews-20230213T153411Z-001\\MLOpsReviews\\disney_plus_titles.csv')"
      ]
    },
    {
      "cell_type": "code",
      "execution_count": null,
      "metadata": {
        "id": "tKetyntbGVVg"
      },
      "outputs": [],
      "source": [
        "disney"
      ]
    },
    {
      "cell_type": "markdown",
      "metadata": {
        "id": "aTyPIEouGVVm"
      },
      "source": [
        "Crear columna ID con la primera letra del csv y la columna Show_id"
      ]
    },
    {
      "cell_type": "code",
      "execution_count": null,
      "metadata": {
        "id": "uuGjCrosGVVn"
      },
      "outputs": [],
      "source": [
        "disney['ID'] = 'd' + (disney ['show_id'])\n"
      ]
    },
    {
      "cell_type": "markdown",
      "metadata": {
        "id": "pIaKKmRtGVVn"
      },
      "source": [
        "Reemplazar los valores nulos de la columna Ratins por 'G'"
      ]
    },
    {
      "cell_type": "code",
      "execution_count": null,
      "metadata": {
        "id": "ACTQWFNLGVVo"
      },
      "outputs": [],
      "source": [
        "disney['rating'].fillna(\"G\", inplace=True)\n",
        "disney"
      ]
    },
    {
      "cell_type": "markdown",
      "metadata": {
        "id": "gShVzTrlGVVo"
      },
      "source": [
        "Ordenar la columna que contiene fecha, De haber fechas, deberán tener el formato AAAA-mm-dd"
      ]
    },
    {
      "cell_type": "code",
      "execution_count": null,
      "metadata": {
        "id": "nyg-MTuQGVVp"
      },
      "outputs": [],
      "source": [
        "disney['date_added'] = pd.to_datetime(disney['date_added'], format=\"%B %d, %Y\")\n",
        "disney"
      ]
    },
    {
      "cell_type": "markdown",
      "metadata": {
        "id": "iJ4vCdHUGVVp"
      },
      "source": [
        "Normalizacion, todo en minuscula nada en mayuscula, por columna"
      ]
    },
    {
      "cell_type": "code",
      "execution_count": null,
      "metadata": {
        "id": "TfrHW1OOGVVq"
      },
      "outputs": [],
      "source": [
        "disney.head(1)"
      ]
    },
    {
      "cell_type": "code",
      "execution_count": null,
      "metadata": {
        "id": "BkPe_5KZGVVr"
      },
      "outputs": [],
      "source": [
        "disney['type']= disney['type'].str.lower()\n",
        "disney['rating']= disney['rating'].str.lower()\n",
        "disney['title']= disney['title'].str.lower()\n",
        "disney['director']= disney['director'].str.lower()\n",
        "disney['cast']= disney['cast'].str.lower()\n",
        "disney['country']= disney['country'].str.lower()\n",
        "disney['listed_in']= disney['listed_in'].str.lower()\n",
        "disney['description']= disney['description'].str.lower()\n",
        "disney.head(5)"
      ]
    },
    {
      "cell_type": "markdown",
      "metadata": {
        "id": "RDq-EGe4GVVr"
      },
      "source": [
        "El campo duration debe convertirse en dos campos: duration_int y duration_type. El primero será un integer y el segundo un string indicando la unidad de medición de duración: min (minutos) o season (temporadas)\n",
        "\n",
        "Separar el numero del strig"
      ]
    },
    {
      "cell_type": "code",
      "execution_count": null,
      "metadata": {
        "id": "k2BLkLAQGVVs"
      },
      "outputs": [],
      "source": [
        "disney[['duration_int','duration_type']]=disney.duration.str.split(expand=True)\n",
        "disney.head(3)"
      ]
    },
    {
      "cell_type": "markdown",
      "metadata": {
        "id": "eXlKnGeDGVVs"
      },
      "source": [
        "nueva columna platform"
      ]
    },
    {
      "cell_type": "code",
      "execution_count": null,
      "metadata": {
        "id": "_y82I85XGVVs"
      },
      "outputs": [],
      "source": [
        "disney['platform'] = 'disney'"
      ]
    },
    {
      "cell_type": "markdown",
      "metadata": {
        "id": "Ni_v7mpCGVVt"
      },
      "source": [
        "Proceso de trasnformacion de datos con hulu"
      ]
    },
    {
      "cell_type": "code",
      "execution_count": null,
      "metadata": {
        "id": "ieUnndbzGVVu"
      },
      "outputs": [],
      "source": [
        "hulu = pd.read_csv(r'MLOpsReviews-20230213T153411Z-001\\MLOpsReviews\\hulu_titles.csv')"
      ]
    },
    {
      "cell_type": "markdown",
      "metadata": {
        "id": "wBkPkUaLGVVv"
      },
      "source": [
        "nueva columna platform"
      ]
    },
    {
      "cell_type": "code",
      "execution_count": null,
      "metadata": {
        "id": "xDXupyHEGVVv"
      },
      "outputs": [],
      "source": [
        "hulu['platform'] = 'hulu'"
      ]
    },
    {
      "cell_type": "markdown",
      "metadata": {
        "id": "ElAaJ0syGVV0"
      },
      "source": [
        "Crear columna ID con la primera letra del csv y la columna Show_id"
      ]
    },
    {
      "cell_type": "code",
      "execution_count": null,
      "metadata": {
        "id": "dE0mZn-nGVV0"
      },
      "outputs": [],
      "source": [
        "hulu['ID'] = 'h' + (hulu ['show_id'])\n",
        "hulu.head(2)"
      ]
    },
    {
      "cell_type": "markdown",
      "metadata": {
        "id": "0_iV1gE3GVV1"
      },
      "source": [
        "Reemplazar los valores nulos de la columna Ratins por 'G'"
      ]
    },
    {
      "cell_type": "code",
      "execution_count": null,
      "metadata": {
        "id": "BvttSSW7GVV1"
      },
      "outputs": [],
      "source": [
        "hulu['rating'].fillna(\"G\", inplace=True)\n",
        "hulu.head(5)"
      ]
    },
    {
      "cell_type": "markdown",
      "metadata": {
        "id": "B0kJ2P94GVV2"
      },
      "source": [
        "Ordenar la columna que contiene fecha, De haber fechas, deberán tener el formato AAAA-mm-dd"
      ]
    },
    {
      "cell_type": "code",
      "execution_count": null,
      "metadata": {
        "id": "d5XJlDeeGVV3"
      },
      "outputs": [],
      "source": [
        "hulu['date_added'] = pd.to_datetime(hulu['date_added'], format=\"%B %d, %Y\")\n",
        "hulu.head(5)"
      ]
    },
    {
      "cell_type": "markdown",
      "metadata": {
        "id": "pw_ZjHETGVV5"
      },
      "source": [
        "Normalizacion, todo en minuscula nada en mayuscula, por columna"
      ]
    },
    {
      "cell_type": "code",
      "execution_count": null,
      "metadata": {
        "id": "cc4OnIScGVV5"
      },
      "outputs": [],
      "source": [
        "hulu['type']= hulu['type'].str.lower()"
      ]
    },
    {
      "cell_type": "code",
      "execution_count": null,
      "metadata": {
        "id": "Oxz29yIbGVV6"
      },
      "outputs": [],
      "source": [
        "hulu['title']= hulu['title'].str.lower()"
      ]
    },
    {
      "cell_type": "code",
      "execution_count": null,
      "metadata": {
        "id": "p8dAyYqxGVV6"
      },
      "outputs": [],
      "source": [
        "hulu['director']= hulu['director'].str.lower()"
      ]
    },
    {
      "cell_type": "code",
      "execution_count": null,
      "metadata": {
        "id": "d1KHGdKDGVV6"
      },
      "outputs": [],
      "source": [
        "#parece que en esta columna en este dataset son todos valores nulos, hay potras columnas como copuntri que funciono xq no son todos los valores nulos en esa columna\n",
        "hulu['cast']"
      ]
    },
    {
      "cell_type": "code",
      "execution_count": null,
      "metadata": {
        "id": "xAF_BPGwGVV9"
      },
      "outputs": [],
      "source": [
        "hulu['cast'].shape"
      ]
    },
    {
      "cell_type": "code",
      "execution_count": null,
      "metadata": {
        "id": "mI0myRs5GVV-"
      },
      "outputs": [],
      "source": [
        "hulu['cast'].isnull().sum()"
      ]
    },
    {
      "cell_type": "code",
      "execution_count": null,
      "metadata": {
        "id": "8EZ21Z_kGVV-"
      },
      "outputs": [],
      "source": [
        "hulu['cast']= hulu['cast'].str.lower()"
      ]
    },
    {
      "cell_type": "code",
      "execution_count": null,
      "metadata": {
        "id": "CyukLyPfGVV_"
      },
      "outputs": [],
      "source": [
        "hulu['country']= hulu['country'].str.lower()"
      ]
    },
    {
      "cell_type": "code",
      "execution_count": null,
      "metadata": {
        "id": "a7_kInNjGVV_"
      },
      "outputs": [],
      "source": [
        "hulu['listed_in']= hulu['listed_in'].str.lower()"
      ]
    },
    {
      "cell_type": "code",
      "execution_count": null,
      "metadata": {
        "id": "lMyT2z3SGVWW"
      },
      "outputs": [],
      "source": [
        "hulu['rating']= hulu['rating'].str.lower()"
      ]
    },
    {
      "cell_type": "code",
      "execution_count": null,
      "metadata": {
        "id": "IvW6mkFEGVWW"
      },
      "outputs": [],
      "source": [
        "hulu['description']= hulu['description'].str.lower()\n",
        "hulu.head(5)"
      ]
    },
    {
      "cell_type": "markdown",
      "metadata": {
        "id": "9VXPO-9tGVWX"
      },
      "source": [
        "El campo duration debe convertirse en dos campos: duration_int y duration_type. El primero será un integer y el segundo un string indicando la unidad de medición de duración: min (minutos) o season (temporadas)\n",
        "\n",
        "Separar el numero del strig"
      ]
    },
    {
      "cell_type": "code",
      "execution_count": null,
      "metadata": {
        "id": "StdEG-FoGVWZ"
      },
      "outputs": [],
      "source": [
        "hulu[['duration_int','duration_type']]=hulu.duration.str.split(expand=True)\n",
        "hulu"
      ]
    },
    {
      "cell_type": "markdown",
      "metadata": {
        "id": "BAN9ALgyGVWe"
      },
      "source": [
        "Proceso de trasnformacion de datos con netflix"
      ]
    },
    {
      "cell_type": "code",
      "execution_count": null,
      "metadata": {
        "id": "OCETVVoGGVWf"
      },
      "outputs": [],
      "source": [
        "netflix = pd.read_csv(r'MLOpsReviews-20230213T153411Z-001\\MLOpsReviews\\netflix_titles.csv')"
      ]
    },
    {
      "cell_type": "markdown",
      "metadata": {
        "id": "K77GDKceGVWf"
      },
      "source": [
        "nueva columna platform"
      ]
    },
    {
      "cell_type": "code",
      "execution_count": null,
      "metadata": {
        "id": "TpnYD6RsGVWg"
      },
      "outputs": [],
      "source": [
        "netflix['platform'] = 'netflix'"
      ]
    },
    {
      "cell_type": "markdown",
      "metadata": {
        "id": "RQfbvSqEGVWh"
      },
      "source": [
        "Crear columna ID con la primera letra del csv y la columna Show_id"
      ]
    },
    {
      "cell_type": "code",
      "execution_count": null,
      "metadata": {
        "id": "ZqIRQAnCGVWk"
      },
      "outputs": [],
      "source": [
        "netflix['ID'] = 'n' + (netflix ['show_id'])\n",
        "netflix.head(1)"
      ]
    },
    {
      "cell_type": "markdown",
      "metadata": {
        "id": "c_7hppC5GVWl"
      },
      "source": [
        "Reemplazar los valores nulos de la columna Ratins por 'G'"
      ]
    },
    {
      "cell_type": "code",
      "execution_count": null,
      "metadata": {
        "id": "El6um_dzGVWm"
      },
      "outputs": [],
      "source": [
        "netflix['rating'].fillna(\"G\", inplace=True)\n",
        "netflix.head(1)"
      ]
    },
    {
      "cell_type": "markdown",
      "metadata": {
        "id": "I_4YTWp2GVWo"
      },
      "source": [
        "Ordenar la columna que contiene fecha, De haber fechas, deberán tener el formato AAAA-mm-dd"
      ]
    },
    {
      "cell_type": "code",
      "execution_count": null,
      "metadata": {
        "id": "lolYm3ScGVW-"
      },
      "outputs": [],
      "source": [
        "\n",
        "netflix['date_added'] = pd.to_datetime(netflix['date_added'], format=\"%B %d, %Y\")\n",
        "netflix.head(2)"
      ]
    },
    {
      "cell_type": "markdown",
      "metadata": {
        "id": "J4AnMt1AGVW_"
      },
      "source": [
        "Normalizacion, todo en minuscula nada en mayuscula, por columna"
      ]
    },
    {
      "cell_type": "code",
      "execution_count": null,
      "metadata": {
        "id": "F9FtARwnGVXA"
      },
      "outputs": [],
      "source": [
        "netflix['rating']= netflix['rating'].str.lower()"
      ]
    },
    {
      "cell_type": "code",
      "execution_count": null,
      "metadata": {
        "id": "4FCeD6vAGVXO"
      },
      "outputs": [],
      "source": [
        "netflix['type']= netflix['type'].str.lower()\n",
        "netflix['title']= netflix['title'].str.lower()\n",
        "netflix['director']= netflix['director'].str.lower()\n",
        "netflix['cast']= netflix['cast'].str.lower()\n",
        "netflix['country']= netflix['country'].str.lower()\n",
        "netflix['listed_in']= netflix['listed_in'].str.lower()\n",
        "netflix['description']= netflix['description'].str.lower()\n",
        "netflix.head(5)"
      ]
    },
    {
      "cell_type": "markdown",
      "metadata": {
        "id": "9XZyDPfpGVXS"
      },
      "source": [
        "El campo duration debe convertirse en dos campos: duration_int y duration_type. El primero será un integer y el segundo un string indicando la unidad de medición de duración: min (minutos) o season (temporadas)\n",
        "\n",
        "Separar el numero del strig"
      ]
    },
    {
      "cell_type": "code",
      "execution_count": null,
      "metadata": {
        "id": "pzpkifCbGVXV"
      },
      "outputs": [],
      "source": [
        "netflix[['duration_int','duration_type']]=netflix.duration.str.split(expand=True)\n",
        "netflix.head(5)"
      ]
    },
    {
      "cell_type": "code",
      "execution_count": null,
      "metadata": {
        "id": "K4LaSBysGVXW"
      },
      "outputs": [],
      "source": [
        "amazon.shape"
      ]
    },
    {
      "cell_type": "code",
      "execution_count": null,
      "metadata": {
        "id": "9Fd0mt7cGVXX"
      },
      "outputs": [],
      "source": [
        "disney.shape"
      ]
    },
    {
      "cell_type": "code",
      "execution_count": null,
      "metadata": {
        "id": "fGcftI08GVXY"
      },
      "outputs": [],
      "source": [
        "hulu.shape"
      ]
    },
    {
      "cell_type": "code",
      "execution_count": null,
      "metadata": {
        "id": "pGKOqeAvGVXY"
      },
      "outputs": [],
      "source": [
        "netflix.shape"
      ]
    },
    {
      "cell_type": "markdown",
      "metadata": {
        "id": "3e9qTqtCGVXY"
      },
      "source": [
        "Unir todos los dataframes"
      ]
    },
    {
      "cell_type": "code",
      "execution_count": null,
      "metadata": {
        "id": "VIYvCdbHGVXZ"
      },
      "outputs": [],
      "source": [
        "dfplatform = pd.concat([amazon,disney,hulu,netflix])"
      ]
    },
    {
      "cell_type": "code",
      "execution_count": null,
      "metadata": {
        "id": "QQrCAw9vGVXZ"
      },
      "outputs": [],
      "source": [
        "dfplatform.shape"
      ]
    },
    {
      "cell_type": "markdown",
      "metadata": {
        "id": "B7PgYpMpGVXZ"
      },
      "source": [
        "ETL de los csv de ratings"
      ]
    },
    {
      "cell_type": "markdown",
      "metadata": {
        "id": "rdA3JaIrGVXZ"
      },
      "source": [
        "cargar los csv en dataframes"
      ]
    },
    {
      "cell_type": "code",
      "execution_count": null,
      "metadata": {
        "id": "h55sBh_9GVXa"
      },
      "outputs": [],
      "source": [
        "df1 = pd.read_csv(r'MLOpsReviews-20230213T153411Z-001\\MLOpsReviews\\ratings\\1.csv')"
      ]
    },
    {
      "cell_type": "code",
      "execution_count": null,
      "metadata": {
        "id": "5Dc4WdgcGVXa"
      },
      "outputs": [],
      "source": [
        "df2 = pd.read_csv(r'MLOpsReviews-20230213T153411Z-001\\MLOpsReviews\\ratings\\2.csv')\n",
        "df3 = pd.read_csv(r'MLOpsReviews-20230213T153411Z-001\\MLOpsReviews\\ratings\\3.csv')\n",
        "df4 = pd.read_csv(r'MLOpsReviews-20230213T153411Z-001\\MLOpsReviews\\ratings\\4.csv')\n",
        "df5 = pd.read_csv(r'MLOpsReviews-20230213T153411Z-001\\MLOpsReviews\\ratings\\5.csv')\n",
        "df6 = pd.read_csv(r'MLOpsReviews-20230213T153411Z-001\\MLOpsReviews\\ratings\\6.csv')\n",
        "df7 = pd.read_csv(r'MLOpsReviews-20230213T153411Z-001\\MLOpsReviews\\ratings\\7.csv')"
      ]
    },
    {
      "cell_type": "code",
      "execution_count": null,
      "metadata": {
        "id": "cZ1lhFtEGVXa"
      },
      "outputs": [],
      "source": [
        "df8 = pd.read_csv(r'MLOpsReviews-20230213T153411Z-001\\MLOpsReviews\\ratings\\8.csv')"
      ]
    },
    {
      "cell_type": "markdown",
      "metadata": {
        "id": "AS5gxGXPGVXy"
      },
      "source": [
        "contatenar los csv de las carpeta ratings"
      ]
    },
    {
      "cell_type": "code",
      "execution_count": null,
      "metadata": {
        "id": "fn7_nTXyGVXz"
      },
      "outputs": [],
      "source": [
        "dfrating = pd.concat([df1, df2, df3, df4, df5, df6, df7, df8], ignore_index=True)"
      ]
    },
    {
      "cell_type": "code",
      "execution_count": null,
      "metadata": {
        "id": "TvlGHiq_GVXz"
      },
      "outputs": [],
      "source": [
        "dfrating.head(5)"
      ]
    },
    {
      "cell_type": "markdown",
      "metadata": {
        "id": "S-hxAMLZGVXz"
      },
      "source": [
        "eliminar primer columna YA  NO SE NECESITA CON LA MODIFICACION DE LOS CSV\n",
        "dfrating = dfrating.drop(['a'], axis=1)"
      ]
    },
    {
      "cell_type": "markdown",
      "metadata": {
        "id": "-MjuDYobGVYT"
      },
      "source": [
        "arregrar la columna timestamp, pasarla a formato año-mes-dia"
      ]
    },
    {
      "cell_type": "code",
      "execution_count": null,
      "metadata": {
        "id": "APneyOHsGVYU"
      },
      "outputs": [],
      "source": [
        "dfrating['timestamp']=pd.to_datetime(dfrating['timestamp'], unit ='s').dt.strftime('%Y/%m/%d')"
      ]
    },
    {
      "cell_type": "markdown",
      "metadata": {
        "id": "eb1J92otGVYu"
      },
      "source": [
        "CREAR COLUMNA SCOREd,  INDICANDO EL PROMEDIO DE LA COLUMNA rating"
      ]
    },
    {
      "cell_type": "code",
      "execution_count": null,
      "metadata": {
        "id": "MfwtEl3oGVY8"
      },
      "outputs": [],
      "source": [
        "dfrating['scored'] = dfrating.groupby('movieId')['rating'].transform('mean')"
      ]
    },
    {
      "cell_type": "code",
      "execution_count": null,
      "metadata": {
        "id": "jffrJI3AGVY8"
      },
      "outputs": [],
      "source": [
        "dfrating.head(5)"
      ]
    },
    {
      "cell_type": "code",
      "execution_count": null,
      "metadata": {
        "id": "iVgtlwm3GVY9"
      },
      "outputs": [],
      "source": [
        "dfplatform.info()"
      ]
    },
    {
      "cell_type": "code",
      "execution_count": null,
      "metadata": {
        "id": "Q05ZkiGhGVY9"
      },
      "outputs": [],
      "source": [
        "dfrating.info()"
      ]
    },
    {
      "cell_type": "markdown",
      "metadata": {
        "id": "3lwGGXaiGVY9"
      },
      "source": [
        "Relacionar el df creado con los dataset de la carpeta ratings\n",
        "se unen desde la columna ID y movieIdG"
      ]
    },
    {
      "cell_type": "code",
      "execution_count": null,
      "metadata": {
        "id": "71JraSnNGVY9"
      },
      "outputs": [],
      "source": [
        "dfcompleto = dfplatform.merge(dfrating, left_on='ID', right_on='movieId', how='outer')"
      ]
    },
    {
      "cell_type": "code",
      "execution_count": null,
      "metadata": {
        "id": "KYSQG165GVY-"
      },
      "outputs": [],
      "source": [
        "dfcompleto.shape"
      ]
    },
    {
      "cell_type": "code",
      "execution_count": null,
      "metadata": {
        "id": "BnsMCCW1GVY-"
      },
      "outputs": [],
      "source": [
        "dfcompleto.info()"
      ]
    },
    {
      "cell_type": "markdown",
      "metadata": {
        "id": "LT05C8K_GVY-"
      },
      "source": [
        "Funciones para la API"
      ]
    },
    {
      "cell_type": "markdown",
      "metadata": {
        "id": "F0eVL4orGVY-"
      },
      "source": [
        "me esta dando un error los valores nulos cuando quiero buscar el maximo, columna duration_int. Voy a reemplazar los nulos por 0. "
      ]
    },
    {
      "cell_type": "code",
      "execution_count": null,
      "metadata": {
        "id": "KliMhf2ZGVY_"
      },
      "outputs": [],
      "source": [
        "dfcompleto['duration_int'].fillna(\"0\", inplace=True)"
      ]
    },
    {
      "cell_type": "markdown",
      "metadata": {
        "id": "AKeYFLqCGVY_"
      },
      "source": [
        "Cambiar el typo de dato a la columna para que me permita hacer la funcion max()"
      ]
    },
    {
      "cell_type": "code",
      "execution_count": null,
      "metadata": {
        "id": "dln5ewtPGVY_"
      },
      "outputs": [],
      "source": [
        "dfcompleto['duration_int'] = dfcompleto['duration_int'].astype('int', copy=False, errors='raise')"
      ]
    },
    {
      "cell_type": "markdown",
      "metadata": {
        "id": "Ai_lEUA_GVZC"
      },
      "source": [
        "extraer csv"
      ]
    },
    {
      "cell_type": "code",
      "execution_count": null,
      "metadata": {
        "id": "MrjZu9e1GVZC"
      },
      "outputs": [],
      "source": [
        "dfcompleto.to_csv('datoscompletos.csv', index=False)"
      ]
    },
    {
      "cell_type": "markdown",
      "source": [
        "cargar cvs completo subido a drive "
      ],
      "metadata": {
        "id": "qdm632cUHMNo"
      }
    },
    {
      "cell_type": "code",
      "source": [
        "dfcompleto = pd.read_csv('/content/drive/MyDrive/Datasc/PI/datoscompletos.csv')\n"
      ],
      "metadata": {
        "colab": {
          "base_uri": "https://localhost:8080/"
        },
        "id": "dbr5x9OLHLtc",
        "outputId": "b682cf7c-776c-41a6-cad5-61a74d0107f8"
      },
      "execution_count": null,
      "outputs": [
        {
          "output_type": "stream",
          "name": "stderr",
          "text": [
            "/usr/local/lib/python3.8/dist-packages/IPython/core/interactiveshell.py:3326: DtypeWarning: Columns (3,4,5,6) have mixed types.Specify dtype option on import or set low_memory=False.\n",
            "  exec(code_obj, self.user_global_ns, self.user_ns)\n"
          ]
        }
      ]
    },
    {
      "cell_type": "code",
      "source": [
        "dfcompleto.shape"
      ],
      "metadata": {
        "colab": {
          "base_uri": "https://localhost:8080/"
        },
        "id": "Y2WrOI52m0dj",
        "outputId": "1edb47e6-2c7e-4f86-c579-cb0af64a6a82"
      },
      "execution_count": null,
      "outputs": [
        {
          "output_type": "execute_result",
          "data": {
            "text/plain": [
              "(11024289, 21)"
            ]
          },
          "metadata": {},
          "execution_count": 22
        }
      ]
    },
    {
      "cell_type": "markdown",
      "source": [
        "copia del dfcompleto y luego eliminar los duplicados de la columna ID"
      ],
      "metadata": {
        "id": "F2z58zKcnPl7"
      }
    },
    {
      "cell_type": "code",
      "source": [
        "dfunciones = dfcompleto"
      ],
      "metadata": {
        "id": "cCpvrO3Yk6Nn",
        "colab": {
          "base_uri": "https://localhost:8080/",
          "height": 166
        },
        "outputId": "d87b3ca6-4022-4892-f8fa-c466509cb5df"
      },
      "execution_count": null,
      "outputs": [
        {
          "output_type": "error",
          "ename": "NameError",
          "evalue": "ignored",
          "traceback": [
            "\u001b[0;31m---------------------------------------------------------------------------\u001b[0m",
            "\u001b[0;31mNameError\u001b[0m                                 Traceback (most recent call last)",
            "\u001b[0;32m<ipython-input-5-d7400e5eb657>\u001b[0m in \u001b[0;36m<module>\u001b[0;34m\u001b[0m\n\u001b[0;32m----> 1\u001b[0;31m \u001b[0mdfunciones\u001b[0m \u001b[0;34m=\u001b[0m \u001b[0mdfcompleto\u001b[0m\u001b[0;34m\u001b[0m\u001b[0;34m\u001b[0m\u001b[0m\n\u001b[0m",
            "\u001b[0;31mNameError\u001b[0m: name 'dfcompleto' is not defined"
          ]
        }
      ]
    },
    {
      "cell_type": "code",
      "source": [
        "dfunciones=dfunciones.drop_duplicates(['ID'])"
      ],
      "metadata": {
        "id": "SofZD2vllAmo",
        "colab": {
          "base_uri": "https://localhost:8080/",
          "height": 166
        },
        "outputId": "5405f9a9-5284-48fb-d74d-56e82e67c68c"
      },
      "execution_count": null,
      "outputs": [
        {
          "output_type": "error",
          "ename": "NameError",
          "evalue": "ignored",
          "traceback": [
            "\u001b[0;31m---------------------------------------------------------------------------\u001b[0m",
            "\u001b[0;31mNameError\u001b[0m                                 Traceback (most recent call last)",
            "\u001b[0;32m<ipython-input-4-591bea3ace61>\u001b[0m in \u001b[0;36m<module>\u001b[0;34m\u001b[0m\n\u001b[0;32m----> 1\u001b[0;31m \u001b[0mdfunciones\u001b[0m\u001b[0;34m=\u001b[0m\u001b[0mdfunciones\u001b[0m\u001b[0;34m.\u001b[0m\u001b[0mdrop_duplicates\u001b[0m\u001b[0;34m(\u001b[0m\u001b[0;34m[\u001b[0m\u001b[0;34m'ID'\u001b[0m\u001b[0;34m]\u001b[0m\u001b[0;34m)\u001b[0m\u001b[0;34m\u001b[0m\u001b[0;34m\u001b[0m\u001b[0m\n\u001b[0m",
            "\u001b[0;31mNameError\u001b[0m: name 'dfunciones' is not defined"
          ]
        }
      ]
    },
    {
      "cell_type": "code",
      "source": [
        "dfunciones.shape"
      ],
      "metadata": {
        "colab": {
          "base_uri": "https://localhost:8080/",
          "height": 166
        },
        "id": "uwSwL8yGmts3",
        "outputId": "490f329b-e86f-4015-ab61-cac9354c512e"
      },
      "execution_count": null,
      "outputs": [
        {
          "output_type": "error",
          "ename": "NameError",
          "evalue": "ignored",
          "traceback": [
            "\u001b[0;31m---------------------------------------------------------------------------\u001b[0m",
            "\u001b[0;31mNameError\u001b[0m                                 Traceback (most recent call last)",
            "\u001b[0;32m<ipython-input-3-fe34be9a79bd>\u001b[0m in \u001b[0;36m<module>\u001b[0;34m\u001b[0m\n\u001b[0;32m----> 1\u001b[0;31m \u001b[0mdfunciones\u001b[0m\u001b[0;34m.\u001b[0m\u001b[0mshape\u001b[0m\u001b[0;34m\u001b[0m\u001b[0;34m\u001b[0m\u001b[0m\n\u001b[0m",
            "\u001b[0;31mNameError\u001b[0m: name 'dfunciones' is not defined"
          ]
        }
      ]
    },
    {
      "cell_type": "markdown",
      "source": [
        "normalizar la columna duration_type"
      ],
      "metadata": {
        "id": "7Ddl_8DHa9Wq"
      }
    },
    {
      "cell_type": "code",
      "source": [
        "dfcompleto['duration_type'].unique()"
      ],
      "metadata": {
        "id": "kHy6Tfs1ZRJ4"
      },
      "execution_count": null,
      "outputs": []
    },
    {
      "cell_type": "code",
      "source": [
        "dfcompleto['duration_type'] = dfcompleto['duration_type'].replace('Seasons','Season')"
      ],
      "metadata": {
        "id": "rDgjxqgWlmaz"
      },
      "execution_count": null,
      "outputs": []
    },
    {
      "cell_type": "code",
      "source": [
        "dfcompleto.info()"
      ],
      "metadata": {
        "id": "2eZqXc2BxqXJ"
      },
      "execution_count": null,
      "outputs": []
    },
    {
      "cell_type": "markdown",
      "metadata": {
        "id": "egSuNLy1GVZD"
      },
      "source": [
        "quitar espacios en blanco"
      ]
    },
    {
      "cell_type": "code",
      "execution_count": null,
      "metadata": {
        "id": "uv164M0JGVZD"
      },
      "outputs": [],
      "source": [
        "dfcompleto['duration_int'].str.strip()"
      ]
    },
    {
      "cell_type": "code",
      "execution_count": null,
      "metadata": {
        "id": "F6Sll56oGVZD"
      },
      "outputs": [],
      "source": [
        "max_duration = dfcompleto['duration_int'].max()\n",
        "max_duration"
      ]
    },
    {
      "cell_type": "markdown",
      "metadata": {
        "id": "n2gXU-cDGVZE"
      },
      "source": [
        "buscar filtrado"
      ]
    },
    {
      "cell_type": "code",
      "execution_count": null,
      "metadata": {
        "id": "IS60rEA0GVZE"
      },
      "outputs": [],
      "source": [
        "max = dfcompleto.loc[dfcompleto['duration_int']=='540']\n",
        "max.dtypes"
      ]
    },
    {
      "cell_type": "code",
      "source": [
        "dfcompleto.info()"
      ],
      "metadata": {
        "colab": {
          "base_uri": "https://localhost:8080/"
        },
        "id": "JixfSyhRIZx6",
        "outputId": "dac563a2-15b3-4f12-bc58-21526df0a20d"
      },
      "execution_count": null,
      "outputs": [
        {
          "output_type": "stream",
          "name": "stdout",
          "text": [
            "<class 'pandas.core.frame.DataFrame'>\n",
            "RangeIndex: 11024289 entries, 0 to 11024288\n",
            "Data columns (total 21 columns):\n",
            " #   Column         Dtype  \n",
            "---  ------         -----  \n",
            " 0   show_id        object \n",
            " 1   type           object \n",
            " 2   title          object \n",
            " 3   director       object \n",
            " 4   cast           object \n",
            " 5   country        object \n",
            " 6   date_added     object \n",
            " 7   release_year   int64  \n",
            " 8   rating_x       object \n",
            " 9   duration       object \n",
            " 10  listed_in      object \n",
            " 11  description    object \n",
            " 12  platform       object \n",
            " 13  ID             object \n",
            " 14  duration_int   int64  \n",
            " 15  duration_type  object \n",
            " 16  userId         int64  \n",
            " 17  rating_y       float64\n",
            " 18  timestamp      object \n",
            " 19  movieId        object \n",
            " 20  scored         float64\n",
            "dtypes: float64(2), int64(3), object(16)\n",
            "memory usage: 1.7+ GB\n"
          ]
        }
      ]
    },
    {
      "cell_type": "markdown",
      "metadata": {
        "id": "Qg6WuP25GVZE"
      },
      "source": [
        "Pelicula de mayor duracion"
      ]
    },
    {
      "cell_type": "code",
      "execution_count": null,
      "metadata": {
        "id": "AZgTxOogGVZE"
      },
      "outputs": [],
      "source": [
        "def get_max_duration(year: int, platform:str, duration_type: str):\n",
        "    df = pd.read_parquet(\"dfcompleto.parquet\")\n",
        "    df = df.dropna() # elimina los valores nulos en el dataframe\n",
        "    # Filtro por parámetros utilizando la función query()\n",
        "    if year:\n",
        "        df = df.query(f\"release_year == {year}\")\n",
        "    if platform:\n",
        "        df = df.query(f\"platform == '{platform}'\")\n",
        "    if duration_type:\n",
        "        if duration_type == \"min\":\n",
        "            max_duration = df.query(\"duration_type == 'min'\").duration_int.max()\n",
        "        elif duration_type == \"season\":\n",
        "            max_duration = df.query(\"duration_type == 'season'\").duration_int.max()\n",
        "        else:\n",
        "            return {\"error\": \"Invalid duration type\"}\n",
        "    else:\n",
        "        max_duration = df.duration_int.max()\n",
        "\n",
        "    # Obtengo el título de la película con duración máxima\n",
        "    title = df.query(f\"duration_int == {max_duration}\").title.values[0]\n",
        "    \n",
        "    return {\"title\": title}"
      ]
    },
    {
      "cell_type": "code",
      "execution_count": null,
      "metadata": {
        "id": "O_LCuSuyGVZF",
        "colab": {
          "base_uri": "https://localhost:8080/"
        },
        "outputId": "7e36a3a5-6ab5-4f90-cbd4-9566eab514f3"
      },
      "outputs": [
        {
          "output_type": "execute_result",
          "data": {
            "text/plain": [
              "show_id                                                      s3851\n",
              "type                                                         movie\n",
              "title                              himalayan singing bowls 9 hours\n",
              "director                                               mark knight\n",
              "cast                                        niv dayan, sarah lærke\n",
              "country                                                        NaN\n",
              "date_added                                                     NaN\n",
              "release_year                                                  2017\n",
              "rating_x                                                       all\n",
              "duration                                                   550 min\n",
              "listed_in                                         special interest\n",
              "description      this ambient sleep and meditation video is a f...\n",
              "platform                                                    amazon\n",
              "ID                                                          as3851\n",
              "duration_int                                                   550\n",
              "duration_type                                                  min\n",
              "userId                                                          20\n",
              "rating_y                                                       3.5\n",
              "timestamp                                               2014/11/07\n",
              "movieId                                                     as3851\n",
              "scored                                                    3.583503\n",
              "Name: 1846551, dtype: object"
            ]
          },
          "metadata": {},
          "execution_count": 12
        }
      ],
      "source": [
        "get_max_duration(2017, 'amazon', 'min')"
      ]
    },
    {
      "cell_type": "markdown",
      "metadata": {
        "id": "9dbcsAudGVZG"
      },
      "source": [
        "Cantidad de películas por plataforma con un puntaje mayor a XX en determinado año (la función debe llamarse get_score_count(platform, scored, year))"
      ]
    },
    {
      "cell_type": "code",
      "execution_count": null,
      "metadata": {
        "id": "3Tyc9BvRGVZH"
      },
      "outputs": [],
      "source": [
        "def get_score_count(platform: str, scored: float, year: int):\n",
        "    # Esta función cuenta la cantidad de películas que cumplen con los criterios \n",
        "    # ingresados en \"platform, scored, year\" y muestra el total.\n",
        "    # Recibe los parámetros platform, scored, year (que no son opcionales)\n",
        "\n",
        "    # Cargo los datos del Dataset final con la variable df\n",
        "    df = pd.read_parquet(\"dfcompleto.parquet\")\n",
        "\n",
        "    # Selecciona las películas que cumplen con el criterio de los parámetros\n",
        "    selec = df.loc[(df['platform'] == platform) & (df['scored'] >= scored) & (df['release_year'] == year)]\n",
        "\n",
        "    # Cuenta las películas y retorna el resultado\n",
        "    contar = selec['title'].nunique()\n",
        "\n",
        "    return contar\n",
        "\n"
      ]
    },
    {
      "cell_type": "code",
      "execution_count": null,
      "metadata": {
        "id": "X2jNQePxGVZG",
        "colab": {
          "base_uri": "https://localhost:8080/"
        },
        "outputId": "7d6debe5-eaeb-4a14-c4f6-c38768257bc6"
      },
      "outputs": [
        {
          "output_type": "execute_result",
          "data": {
            "text/plain": [
              "962"
            ]
          },
          "metadata": {},
          "execution_count": 14
        }
      ],
      "source": [
        "get_score_count('amazon', 3, 2020)"
      ]
    },
    {
      "cell_type": "markdown",
      "metadata": {
        "id": "g_tBQvdqGVZH"
      },
      "source": [
        "Cantidad de películas por plataforma con filtro de PLATAFORMA. (La función debe llamarse get_count_platform(platform))\n",
        "\n"
      ]
    },
    {
      "cell_type": "code",
      "source": [
        "def get_count_platform(platform: str):\n",
        "    \n",
        "    df = pd.read_parquet(\"dfcompleto.parquet\")\n",
        "    # filtro las películas a la plataforma especificada y cuento los títulos únicos\n",
        "    cantidad_peliculas = df[df[\"platform\"] == platform]['title'].nunique()\n",
        "    return cantidad_peliculas\n"
      ],
      "metadata": {
        "id": "zQutZT40g0DH"
      },
      "execution_count": null,
      "outputs": []
    },
    {
      "cell_type": "code",
      "source": [
        " get_count_platform('amazon')"
      ],
      "metadata": {
        "colab": {
          "base_uri": "https://localhost:8080/"
        },
        "id": "ql2b34gwjBTS",
        "outputId": "ac75bba6-e750-4fd7-fc14-1809caf50ce2"
      },
      "execution_count": null,
      "outputs": [
        {
          "output_type": "execute_result",
          "data": {
            "text/plain": [
              "9651"
            ]
          },
          "metadata": {},
          "execution_count": 11
        }
      ]
    },
    {
      "cell_type": "markdown",
      "metadata": {
        "id": "hgxfKwbgGVZS"
      },
      "source": [
        "Actor que más se repite según plataforma y año. (La función debe llamarse get_actor(platform, year))"
      ]
    },
    {
      "cell_type": "code",
      "source": [
        "def get_actor(platform: str, year: int):\n",
        "    \n",
        "    dfcompleto = pd.read_parquet(\"dfcompleto.parquet\")\n",
        "    \n",
        "    # Filtrar el DataFrame por plataforma y año\n",
        "    filtered_df = dfcompleto[(dfcompleto['platform'] == platform) & (dfcompleto['release_year'] == year)]\n",
        "\n",
        "    # Reemplazar los valores nulos en la columna \"cast\" por \"Desconocido\"\n",
        "    filtered_df['cast'].fillna(value='Desconocido', inplace=True)\n",
        "\n",
        "    # Obtener la lista de actores\n",
        "    actors_list = [actor for actors in filtered_df['cast'].str.split(', ') for actor in actors if actor != 'Desconocido']\n",
        "\n",
        "    # Obtener el actor con más apariciones\n",
        "    top_actor = max(set(actors_list), key=actors_list.count)\n",
        "\n",
        "    return top_actor"
      ],
      "metadata": {
        "id": "d7nzdGZoYmcl"
      },
      "execution_count": null,
      "outputs": []
    },
    {
      "cell_type": "code",
      "source": [
        "get_actor('amazon', 2020)"
      ],
      "metadata": {
        "id": "-ZZOQDHBOwah"
      },
      "execution_count": null,
      "outputs": []
    },
    {
      "cell_type": "code",
      "source": [
        "duplicados = dfcompleto[dfcompleto.duplicated(['ID'])]\n",
        "len(duplicados)"
      ],
      "metadata": {
        "colab": {
          "base_uri": "https://localhost:8080/"
        },
        "id": "pvTuKIt3hAu-",
        "outputId": "82547dbf-9af3-46a6-c82b-82f3b25b68d6"
      },
      "execution_count": null,
      "outputs": [
        {
          "output_type": "execute_result",
          "data": {
            "text/plain": [
              "11001291"
            ]
          },
          "metadata": {},
          "execution_count": 12
        }
      ]
    },
    {
      "cell_type": "code",
      "source": [
        "dfcompleto.isna().sum()"
      ],
      "metadata": {
        "id": "mRFJscM4SYKP"
      },
      "execution_count": null,
      "outputs": []
    },
    {
      "cell_type": "code",
      "source": [
        "dfcompleto['cast'] = dfcompleto['cast'].fillna('Desconocido')"
      ],
      "metadata": {
        "id": "wQ53SZAESe_K"
      },
      "execution_count": null,
      "outputs": []
    }
  ],
  "metadata": {
    "kernelspec": {
      "display_name": "Python 3",
      "language": "python",
      "name": "python3"
    },
    "language_info": {
      "codemirror_mode": {
        "name": "ipython",
        "version": 3
      },
      "file_extension": ".py",
      "mimetype": "text/x-python",
      "name": "python",
      "nbconvert_exporter": "python",
      "pygments_lexer": "ipython3",
      "version": "3.10.7"
    },
    "orig_nbformat": 4,
    "vscode": {
      "interpreter": {
        "hash": "9898addb80d34741ffcb9b26ce1f9aa95f5cbd47fda4f1f7a13682f2e25e3ac2"
      }
    },
    "colab": {
      "provenance": []
    }
  },
  "nbformat": 4,
  "nbformat_minor": 0
}